{
 "cells": [
  {
   "cell_type": "markdown",
   "id": "11100ae3-e7b2-4967-becc-92eeab5f0867",
   "metadata": {},
   "source": [
    "# Discrete Fourier Transform\n",
    "\n",
    "Convolution using DFT (not FFT)."
   ]
  },
  {
   "cell_type": "code",
   "execution_count": 1,
   "id": "b5dd0c38-c8d4-444b-9b3d-81b3c3c4fcdb",
   "metadata": {},
   "outputs": [],
   "source": [
    "import numpy as np\n",
    "# TODO: Study where this math comes from."
   ]
  },
  {
   "cell_type": "markdown",
   "id": "597adb95-77ba-48d3-b088-370b52170878",
   "metadata": {},
   "source": [
    "https://en.wikipedia.org/wiki/DFT_matrix"
   ]
  },
  {
   "cell_type": "code",
   "execution_count": 2,
   "id": "9bd39831-e34d-46a3-9497-d85a6e657fa1",
   "metadata": {},
   "outputs": [],
   "source": [
    "def create_transformation_matrix(n):\n",
    "  result = np.empty((n, n), dtype='complex_')\n",
    "  w = np.exp(-np.pi * 2j / n)\n",
    "  \n",
    "  for i in range(n):\n",
    "    for j in range(n):\n",
    "      result[i][j] = w**(i * j)\n",
    "\n",
    "  return result"
   ]
  },
  {
   "cell_type": "code",
   "execution_count": 3,
   "id": "e5528519-a791-4838-9a82-b0edebd95229",
   "metadata": {},
   "outputs": [],
   "source": [
    "def pad_zeros(arr, n):\n",
    "  result = np.zeros(n)\n",
    "  for i in range(len(arr)):\n",
    "    result[i] = arr[i]\n",
    "  return result\n",
    "\n",
    "def convolution(seq1, seq2):\n",
    "  n = len(seq1) + len(seq2) - 1\n",
    "  seq1 = pad_zeros(seq1, n)\n",
    "  seq2 = pad_zeros(seq2, n)\n",
    "\n",
    "  matrix = create_transformation_matrix(n)\n",
    "\n",
    "  seq1_dft = np.dot(matrix, seq1)\n",
    "  seq2_dft = np.dot(matrix, seq2)\n",
    "\n",
    "  result = np.multiply(seq1_dft, seq2_dft)\n",
    "\n",
    "  return np.dot(np.linalg.inv(matrix), result)"
   ]
  },
  {
   "cell_type": "markdown",
   "id": "64c91134-e798-4534-b893-cd7b7ce72f6e",
   "metadata": {},
   "source": [
    "## Randomized Testing"
   ]
  },
  {
   "cell_type": "code",
   "execution_count": 5,
   "id": "6ae0ba92-212d-4386-a556-996321f49aac",
   "metadata": {},
   "outputs": [],
   "source": [
    "def test(seq1, seq2):\n",
    "  size = len(seq1) + len(seq2) - 1\n",
    "  result = convolution(seq1, seq2)\n",
    "  correct = np.convolve(seq1, seq2)\n",
    "\n",
    "  assert(np.all(correct[size:] == 0))\n",
    "  np.testing.assert_allclose(result, correct[:size])\n",
    "\n",
    "for _ in range(1000):\n",
    "  size1 = np.random.default_rng().integers(low=4, high=50)\n",
    "  size2 = np.random.default_rng().integers(low=4, high=50)\n",
    "  seq1 = np.random.default_rng().uniform(low=-10000, high=10000, size=size1)\n",
    "  seq2 = np.random.default_rng().uniform(low=-10000, high=10000, size=size2)\n",
    "  test(seq1, seq2)"
   ]
  }
 ],
 "metadata": {
  "kernelspec": {
   "display_name": "Python 3 (ipykernel)",
   "language": "python",
   "name": "python3"
  },
  "language_info": {
   "codemirror_mode": {
    "name": "ipython",
    "version": 3
   },
   "file_extension": ".py",
   "mimetype": "text/x-python",
   "name": "python",
   "nbconvert_exporter": "python",
   "pygments_lexer": "ipython3",
   "version": "3.10.12"
  }
 },
 "nbformat": 4,
 "nbformat_minor": 5
}
