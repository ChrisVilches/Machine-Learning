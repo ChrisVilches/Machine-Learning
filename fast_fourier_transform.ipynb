{
 "cells": [
  {
   "cell_type": "markdown",
   "id": "3e1bb400-653c-4404-8dd8-5cb066b4d35a",
   "metadata": {},
   "source": [
    "# Fast Discrete Fourier Transform"
   ]
  },
  {
   "cell_type": "code",
   "execution_count": 1,
   "id": "3e54e142-f928-4a24-b0b7-f7e3d05d7727",
   "metadata": {},
   "outputs": [],
   "source": [
    "import numpy as np"
   ]
  },
  {
   "cell_type": "code",
   "execution_count": 2,
   "id": "e22512f3-045a-44fa-a77b-a8425cabc8fe",
   "metadata": {},
   "outputs": [],
   "source": [
    "def fft(seq, inverse=False):\n",
    "  n = len(seq)\n",
    "\n",
    "  if n == 1:\n",
    "    return seq\n",
    "\n",
    "  w = np.exp(np.pi * 2j / n)\n",
    "\n",
    "  if not inverse:\n",
    "    w **= -1\n",
    "\n",
    "  even = seq[0:][::2]\n",
    "  odd = seq[1:][::2]\n",
    "\n",
    "  a = fft(even, inverse)\n",
    "  b = fft(odd, inverse)\n",
    "  y = np.empty(n, dtype='complex_')\n",
    "\n",
    "  for i in range(n // 2):\n",
    "    x = w**i\n",
    "    y[i] = a[i] + b[i] * x\n",
    "    y[i + (n // 2)] = a[i] - b[i] * x\n",
    "\n",
    "  if inverse:\n",
    "    y /= 2\n",
    "\n",
    "  return y"
   ]
  },
  {
   "cell_type": "code",
   "execution_count": 5,
   "id": "2387e0ea-3280-491b-a879-79495af3b484",
   "metadata": {},
   "outputs": [],
   "source": [
    "def next_power_of_2(x):\n",
    "  return 1 if x == 0 else 2**(x - 1).bit_length()\n",
    "\n",
    "def convolution(seq1, seq2):\n",
    "  final_length = len(seq1) + len(seq2) - 1\n",
    "  n = next_power_of_2(final_length)\n",
    "\n",
    "  seq1 = np.pad(seq1, (0, n - len(seq1)), 'constant', constant_values=0)\n",
    "  seq2 = np.pad(seq2, (0, n - len(seq2)), 'constant', constant_values=0)\n",
    "\n",
    "  seq1_dft = fft(seq1)\n",
    "  seq2_dft = fft(seq2)\n",
    "\n",
    "  product = np.multiply(seq1_dft, seq2_dft)\n",
    "\n",
    "  return fft(product, inverse=True)[:final_length]"
   ]
  },
  {
   "cell_type": "markdown",
   "id": "22c558a5-b3c6-424a-9fc8-2c0d09676eaa",
   "metadata": {},
   "source": [
    "## Randomized Testing"
   ]
  },
  {
   "cell_type": "code",
   "execution_count": 6,
   "id": "0ddecca7-ff83-420d-8e04-102ca2de2861",
   "metadata": {},
   "outputs": [],
   "source": [
    "def test(seq1, seq2):\n",
    "  result = convolution(seq1, seq2)\n",
    "  correct = np.convolve(seq1, seq2)\n",
    "\n",
    "  assert(len(correct) == len(result))\n",
    "  np.testing.assert_allclose(result, correct)\n",
    "\n",
    "for _ in range(1000):\n",
    "  size1 = np.random.default_rng().integers(low=4, high=50)\n",
    "  size2 = np.random.default_rng().integers(low=4, high=50)\n",
    "  seq1 = np.random.default_rng().uniform(low=-10000, high=10000, size=size1)\n",
    "  seq2 = np.random.default_rng().uniform(low=-10000, high=10000, size=size2)\n",
    "  test(seq1, seq2)"
   ]
  }
 ],
 "metadata": {
  "kernelspec": {
   "display_name": "Python 3 (ipykernel)",
   "language": "python",
   "name": "python3"
  },
  "language_info": {
   "codemirror_mode": {
    "name": "ipython",
    "version": 3
   },
   "file_extension": ".py",
   "mimetype": "text/x-python",
   "name": "python",
   "nbconvert_exporter": "python",
   "pygments_lexer": "ipython3",
   "version": "3.10.12"
  }
 },
 "nbformat": 4,
 "nbformat_minor": 5
}
