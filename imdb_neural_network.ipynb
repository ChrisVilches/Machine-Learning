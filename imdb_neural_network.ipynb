{
 "cells": [
  {
   "cell_type": "code",
   "execution_count": 1,
   "id": "f9b7a09d-cf06-47c0-9ef8-15d3eec16d1c",
   "metadata": {},
   "outputs": [
    {
     "name": "stderr",
     "output_type": "stream",
     "text": [
      "2024-03-26 18:57:57.796774: I external/local_tsl/tsl/cuda/cudart_stub.cc:32] Could not find cuda drivers on your machine, GPU will not be used.\n",
      "2024-03-26 18:57:57.800674: I external/local_tsl/tsl/cuda/cudart_stub.cc:32] Could not find cuda drivers on your machine, GPU will not be used.\n",
      "2024-03-26 18:57:57.851172: I tensorflow/core/platform/cpu_feature_guard.cc:210] This TensorFlow binary is optimized to use available CPU instructions in performance-critical operations.\n",
      "To enable the following instructions: AVX2 FMA, in other operations, rebuild TensorFlow with the appropriate compiler flags.\n",
      "2024-03-26 18:57:59.060677: W tensorflow/compiler/tf2tensorrt/utils/py_utils.cc:38] TF-TRT Warning: Could not find TensorRT\n"
     ]
    }
   ],
   "source": [
    "import numpy as np\n",
    "from keras.datasets import imdb\n",
    "from keras import models, layers, optimizers, regularizers\n",
    "from matplotlib import pyplot\n",
    "import json"
   ]
  },
  {
   "cell_type": "code",
   "execution_count": 2,
   "id": "8736fe70-1436-4fb5-b475-58ae8ac5b76e",
   "metadata": {},
   "outputs": [],
   "source": [
    "(train_data, train_labels), (test_data, test_labels) = imdb.load_data(num_words=10_000)\n",
    "word_idx = imdb.get_word_index()"
   ]
  },
  {
   "cell_type": "code",
   "execution_count": 3,
   "id": "a4c5bb39-367a-48ae-a41b-f62f0051d545",
   "metadata": {},
   "outputs": [],
   "source": [
    "def vectorize(word_list, size=10_000):\n",
    "  result = np.zeros(size)\n",
    "  for i in word_list:\n",
    "    assert(i < size)\n",
    "    result[i] = 1\n",
    "  return result"
   ]
  },
  {
   "cell_type": "code",
   "execution_count": 4,
   "id": "7b25329e-89d8-4294-8893-68583e25bc1b",
   "metadata": {},
   "outputs": [],
   "source": [
    "X_train = np.array([vectorize(row) for row in train_data])\n",
    "X_test = np.array([vectorize(row) for row in test_data])\n",
    "y_train = np.asarray(train_labels).astype('float32')\n",
    "y_test = np.asarray(test_labels).astype('float32')"
   ]
  },
  {
   "cell_type": "code",
   "execution_count": 5,
   "id": "d140c6dc-d28f-4c4a-aa43-fd1a816794d9",
   "metadata": {},
   "outputs": [
    {
     "name": "stdout",
     "output_type": "stream",
     "text": [
      "(25000, 10000)\n",
      "(25000, 10000)\n"
     ]
    }
   ],
   "source": [
    "print(X_train.shape)\n",
    "print(X_test.shape)"
   ]
  },
  {
   "cell_type": "code",
   "execution_count": 6,
   "id": "480305a9-656e-4b0a-a9be-bf8614b37e0a",
   "metadata": {},
   "outputs": [
    {
     "name": "stdout",
     "output_type": "stream",
     "text": [
      "[0. 1. 1. 0. 1. 1. 1. 1. 1. 1. 0. 0. 1. 1. 1. 1. 1. 1. 1. 1.]\n",
      "[0. 1. 1. 0. 1. 1. 1. 1. 1. 1. 0. 1. 0. 1. 1. 1. 1. 0. 1. 1.]\n",
      "[0. 1. 1. 0. 1. 0. 1. 1. 1. 1. 0. 1. 1. 1. 1. 1. 1. 0. 1. 1.]\n",
      "[0. 1. 1. 0. 1. 1. 1. 1. 1. 1. 1. 1. 1. 1. 1. 1. 1. 1. 0. 1.]\n",
      "[0. 1. 1. 0. 1. 1. 1. 1. 1. 0. 1. 1. 1. 1. 1. 1. 1. 0. 1. 1.]\n",
      "[0. 1. 1. 0. 1. 0. 0. 0. 1. 0. 1. 0. 1. 0. 0. 1. 1. 0. 0. 0.]\n",
      "[0. 1. 1. 0. 1. 1. 1. 1. 1. 1. 0. 1. 1. 1. 1. 1. 0. 1. 0. 0.]\n",
      "[0. 1. 1. 0. 1. 0. 1. 1. 1. 1. 1. 1. 1. 1. 1. 1. 1. 1. 1. 1.]\n",
      "[0. 1. 1. 0. 1. 1. 1. 1. 1. 1. 0. 1. 1. 1. 1. 1. 1. 0. 0. 1.]\n",
      "[0. 1. 1. 0. 1. 1. 1. 1. 1. 1. 1. 1. 1. 1. 1. 1. 1. 0. 1. 1.]\n",
      "[0. 1. 1. 0. 1. 1. 1. 1. 1. 1. 1. 1. 1. 0. 1. 1. 1. 1. 1. 1.]\n",
      "[0. 1. 0. 0. 1. 1. 1. 1. 0. 1. 0. 0. 1. 1. 1. 1. 1. 0. 1. 0.]\n",
      "[0. 1. 1. 0. 1. 1. 1. 1. 1. 1. 1. 0. 0. 1. 1. 0. 0. 0. 1. 1.]\n",
      "[0. 1. 1. 0. 1. 1. 1. 1. 1. 1. 0. 1. 1. 0. 1. 1. 1. 1. 0. 1.]\n",
      "[0. 1. 1. 0. 1. 1. 1. 0. 1. 1. 1. 1. 0. 1. 1. 0. 0. 0. 0. 0.]\n",
      "[0. 1. 1. 0. 1. 1. 1. 1. 1. 0. 0. 1. 1. 1. 1. 0. 1. 0. 1. 1.]\n",
      "[0. 1. 1. 0. 1. 1. 1. 1. 1. 1. 0. 1. 1. 1. 1. 0. 1. 1. 0. 1.]\n",
      "[0. 1. 1. 0. 1. 1. 1. 1. 1. 1. 1. 1. 1. 1. 1. 1. 1. 1. 1. 1.]\n",
      "[0. 1. 1. 0. 1. 1. 1. 1. 1. 1. 0. 1. 1. 1. 1. 1. 1. 1. 0. 1.]\n",
      "[0. 1. 1. 0. 1. 1. 1. 1. 1. 1. 0. 1. 1. 0. 0. 1. 1. 1. 0. 0.]\n"
     ]
    }
   ],
   "source": [
    "for i in range(20):\n",
    "  print(X_train[i][:20])"
   ]
  },
  {
   "cell_type": "code",
   "execution_count": 7,
   "id": "81ff1e3e-ec66-4e68-82de-cc86b35e2c8d",
   "metadata": {},
   "outputs": [],
   "source": [
    "X_valid = X_train[:10_000]\n",
    "X_train_partial = X_train[10_000:]\n",
    "y_valid = y_train[:10_000]\n",
    "y_train_partial = y_train[10_000:]"
   ]
  },
  {
   "cell_type": "code",
   "execution_count": 8,
   "id": "b1cec513-5c63-44d3-94ab-e04e2dc274c0",
   "metadata": {},
   "outputs": [],
   "source": [
    "def execute_model(model, epochs=10):\n",
    "  model.compile(\n",
    "    optimizer='rmsprop',\n",
    "    loss='binary_crossentropy',\n",
    "    metrics=['accuracy']\n",
    "  )\n",
    "  history = model.fit(\n",
    "    X_train_partial,\n",
    "    y_train_partial,\n",
    "    epochs=epochs,\n",
    "    batch_size=512,\n",
    "    validation_data=(X_valid, y_valid),\n",
    "    verbose=False\n",
    "  )\n",
    "  loss_values = history.history['loss']\n",
    "  valid_loss_values = history.history['val_loss']\n",
    "  epoch = range(len(loss_values))\n",
    "  print(json.dumps(history.history, indent=4))\n",
    "  pyplot.plot(epoch, loss_values, '-')\n",
    "  pyplot.plot(epoch, valid_loss_values, '--')"
   ]
  },
  {
   "cell_type": "code",
   "execution_count": 9,
   "id": "47e7ff6e-0e18-4733-a945-9a02a59e1a98",
   "metadata": {},
   "outputs": [
    {
     "name": "stderr",
     "output_type": "stream",
     "text": [
      "2024-03-26 18:58:09.553005: W external/local_tsl/tsl/framework/cpu_allocator_impl.cc:83] Allocation of 600000000 exceeds 10% of free system memory.\n"
     ]
    },
    {
     "name": "stdout",
     "output_type": "stream",
     "text": [
      "{\n",
      "    \"accuracy\": [\n",
      "        0.7861999869346619,\n",
      "        0.8848000168800354,\n",
      "        0.9038000106811523,\n",
      "        0.9174666404724121,\n",
      "        0.9242666959762573,\n",
      "        0.9301333427429199,\n",
      "        0.9368666410446167,\n",
      "        0.9404000043869019,\n",
      "        0.9439333081245422,\n",
      "        0.9487333297729492\n",
      "    ],\n",
      "    \"loss\": [\n",
      "        0.5475100874900818,\n",
      "        0.39518168568611145,\n",
      "        0.33091500401496887,\n",
      "        0.29281389713287354,\n",
      "        0.2696714699268341,\n",
      "        0.2540188133716583,\n",
      "        0.24127821624279022,\n",
      "        0.23262789845466614,\n",
      "        0.22620855271816254,\n",
      "        0.21849820017814636\n",
      "    ],\n",
      "    \"val_accuracy\": [\n",
      "        0.8289999961853027,\n",
      "        0.8741000294685364,\n",
      "        0.8777999877929688,\n",
      "        0.8866000175476074,\n",
      "        0.887499988079071,\n",
      "        0.8877000212669373,\n",
      "        0.885200023651123,\n",
      "        0.8867999911308289,\n",
      "        0.8859000205993652,\n",
      "        0.8848999738693237\n",
      "    ],\n",
      "    \"val_loss\": [\n",
      "        0.46892744302749634,\n",
      "        0.3856831192970276,\n",
      "        0.3579227328300476,\n",
      "        0.33490556478500366,\n",
      "        0.3260401785373688,\n",
      "        0.3224571645259857,\n",
      "        0.32709258794784546,\n",
      "        0.3219878077507019,\n",
      "        0.32554861903190613,\n",
      "        0.3265056908130646\n",
      "    ]\n",
      "}\n"
     ]
    },
    {
     "data": {
      "image/png": "[encoded data removed]",
      "text/plain": [
       "<Figure size 640x480 with 1 Axes>"
      ]
     },
     "metadata": {},
     "output_type": "display_data"
    }
   ],
   "source": [
    "model = models.Sequential()\n",
    "model.add(layers.Input((10_000,)))\n",
    "model.add(layers.Dense(8, activation='relu', kernel_regularizer=regularizers.l2(0.001)))\n",
    "model.add(layers.Dense(1, activation='sigmoid'))\n",
    "execute_model(model)"
   ]
  },
  {
   "cell_type": "code",
   "execution_count": 10,
   "id": "6a533a21-4b24-48ef-9f5c-535d129076f8",
   "metadata": {},
   "outputs": [
    {
     "name": "stderr",
     "output_type": "stream",
     "text": [
      "2024-03-26 18:58:15.166093: W external/local_tsl/tsl/framework/cpu_allocator_impl.cc:83] Allocation of 600000000 exceeds 10% of free system memory.\n"
     ]
    },
    {
     "name": "stdout",
     "output_type": "stream",
     "text": [
      "{\n",
      "    \"accuracy\": [\n",
      "        0.6478666663169861,\n",
      "        0.7564666867256165,\n",
      "        0.7880666851997375,\n",
      "        0.8100000023841858,\n",
      "        0.8213333487510681,\n",
      "        0.8267999887466431,\n",
      "        0.8448666930198669,\n",
      "        0.8442000150680542,\n",
      "        0.8485333323478699,\n",
      "        0.8521333336830139\n",
      "    ],\n",
      "    \"loss\": [\n",
      "        0.6284304261207581,\n",
      "        0.5282019376754761,\n",
      "        0.4752119183540344,\n",
      "        0.44515174627304077,\n",
      "        0.4208412170410156,\n",
      "        0.4060308039188385,\n",
      "        0.3857773244380951,\n",
      "        0.37778377532958984,\n",
      "        0.36816903948783875,\n",
      "        0.36461833119392395\n",
      "    ],\n",
      "    \"val_accuracy\": [\n",
      "        0.8342000246047974,\n",
      "        0.86080002784729,\n",
      "        0.8709999918937683,\n",
      "        0.8776000142097473,\n",
      "        0.8816999793052673,\n",
      "        0.8837000131607056,\n",
      "        0.8866000175476074,\n",
      "        0.8847000002861023,\n",
      "        0.8876000046730042,\n",
      "        0.8873000144958496\n",
      "    ],\n",
      "    \"val_loss\": [\n",
      "        0.5189536213874817,\n",
      "        0.44866007566452026,\n",
      "        0.405801922082901,\n",
      "        0.3739783465862274,\n",
      "        0.35447850823402405,\n",
      "        0.34150001406669617,\n",
      "        0.3267970681190491,\n",
      "        0.32386279106140137,\n",
      "        0.30561214685440063,\n",
      "        0.3045582175254822\n",
      "    ]\n",
      "}\n"
     ]
    },
    {
     "data": {
      "image/png": "[encoded data removed]",
      "text/plain": [
       "<Figure size 640x480 with 1 Axes>"
      ]
     },
     "metadata": {},
     "output_type": "display_data"
    }
   ],
   "source": [
    "model = models.Sequential()\n",
    "model.add(layers.Input((10_000,)))\n",
    "model.add(layers.Dropout(0.5))\n",
    "model.add(layers.Dense(8, activation='relu'))\n",
    "model.add(layers.Dropout(0.5))\n",
    "model.add(layers.Dense(1, activation='sigmoid'))\n",
    "execute_model(model)"
   ]
  }
 ],
 "metadata": {
  "kernelspec": {
   "display_name": "Python 3 (ipykernel)",
   "language": "python",
   "name": "python3"
  },
  "language_info": {
   "codemirror_mode": {
    "name": "ipython",
    "version": 3
   },
   "file_extension": ".py",
   "mimetype": "text/x-python",
   "name": "python",
   "nbconvert_exporter": "python",
   "pygments_lexer": "ipython3",
   "version": "3.10.12"
  }
 },
 "nbformat": 4,
 "nbformat_minor": 5
}
