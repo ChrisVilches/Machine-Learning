{
 "cells": [
  {
   "cell_type": "code",
   "execution_count": 1,
   "metadata": {
    "id": "3PtXuTY_Ytkt"
   },
   "outputs": [],
   "source": [
    "import numpy as np\n",
    "import matplotlib.pyplot as plt"
   ]
  },
  {
   "cell_type": "code",
   "execution_count": 2,
   "metadata": {
    "id": "6G6Nw1ENZwZH"
   },
   "outputs": [],
   "source": [
    "def sigmoid(x):\n",
    "  return 1 / (1 + np.exp(-x))\n",
    "\n",
    "def predict(x, w, b):\n",
    "  return sigmoid(np.matmul(w.T, x) + b)\n",
    "\n",
    "def predict_bool(x, w, b):\n",
    "  return predict([x], w, b) >= 0.5\n",
    "\n",
    "def model(x, y, learning_rate, iter):\n",
    "  n, m = x.shape\n",
    "\n",
    "  w = np.zeros((m, 1))\n",
    "  b = 0\n",
    "\n",
    "  y_row = y.T\n",
    "  xt = x.T\n",
    "\n",
    "  for i in range(iter):\n",
    "    y_pred = predict(xt, w, b)\n",
    "    y_diff = y_pred - y_row\n",
    "    deriv_w = (1 / m) * np.matmul(y_diff, x)\n",
    "    deriv_b = (1 / m) * np.sum(y_diff)\n",
    "    w = w - learning_rate * deriv_w.T\n",
    "    b = b - learning_rate * deriv_b\n",
    "\n",
    "  return w, b"
   ]
  },
  {
   "cell_type": "code",
   "execution_count": 3,
   "metadata": {
    "id": "nzfZ89SyX9b8"
   },
   "outputs": [],
   "source": [
    "x_data = [1, 2, 3, 4, 5, 6, 7, 8, 9, 10, 11, 12, 13, 14, 15, 16, 17, 18, 19, 20]\n",
    "y_data = [0, 0, 0, 0, 0, 0, 0, 0, 0, 0, 0, 0, 1, 1, 1, 1, 1, 1, 1, 1]\n",
    "\n",
    "x = np.array(x_data).reshape((-1, 1))\n",
    "y = np.array(y_data).reshape((-1, 1))"
   ]
  },
  {
   "cell_type": "code",
   "execution_count": 4,
   "metadata": {
    "colab": {
     "base_uri": "https://localhost:8080/"
    },
    "executionInfo": {
     "elapsed": 4055,
     "status": "ok",
     "timestamp": 1703609949751,
     "user": {
      "displayName": "Felo Vilches",
      "userId": "16392550540115515859"
     },
     "user_tz": -540
    },
    "id": "QlIqsc8ma0JV",
    "outputId": "b7ad738d-22e9-486e-98a9-b8aac26b99dd"
   },
   "outputs": [
    {
     "name": "stdout",
     "output_type": "stream",
     "text": [
      "(1, 1)\n",
      "[[1.47025763]] -18.284180300632038\n"
     ]
    }
   ],
   "source": [
    "w, b = model(x, y, 0.001, 100000)\n",
    "print(w.shape)\n",
    "print(w, b)"
   ]
  },
  {
   "cell_type": "code",
   "execution_count": 5,
   "metadata": {
    "colab": {
     "base_uri": "https://localhost:8080/",
     "height": 447
    },
    "executionInfo": {
     "elapsed": 560,
     "status": "ok",
     "timestamp": 1703610055534,
     "user": {
      "displayName": "Felo Vilches",
      "userId": "16392550540115515859"
     },
     "user_tz": -540
    },
    "id": "Wp8BQQk2fWYp",
    "outputId": "1529048d-5c72-4209-8c93-0c6d767d6d73"
   },
   "outputs": [
    {
     "data": {
      "text/plain": [
       "[<matplotlib.lines.Line2D at 0x7f3e2a132ef0>]"
      ]
     },
     "execution_count": 5,
     "metadata": {},
     "output_type": "execute_result"
    },
    {
     "data": {
      "image/png": "[encoded data removed]",
      "text/plain": [
       "<Figure size 640x480 with 1 Axes>"
      ]
     },
     "metadata": {},
     "output_type": "display_data"
    }
   ],
   "source": [
    "plt.scatter(x, y, color='blue')\n",
    "\n",
    "x_val = np.linspace(0, 25, 100)\n",
    "fn = lambda x: predict([x], w, b)\n",
    "\n",
    "plt.plot(x_val, np.vectorize(fn)(x_val))"
   ]
  },
  {
   "cell_type": "code",
   "execution_count": 22,
   "metadata": {
    "id": "1gtWmX_dvS1c"
   },
   "outputs": [],
   "source": [
    "assert(predict_bool(20, w, b))\n",
    "assert(predict_bool(25, w, b))\n",
    "assert(predict_bool(100, w, b))\n",
    "assert(predict_bool(70, w, b))\n",
    "assert(not predict_bool(12, w, b))\n",
    "assert(not predict_bool(6, w, b))\n",
    "assert(not predict_bool(3, w, b))\n",
    "assert(not predict_bool(1, w, b))\n",
    "assert(not predict_bool(0, w, b))"
   ]
  }
 ],
 "metadata": {
  "colab": {
   "authorship_tag": "ABX9TyP9tDA7Q91TxVG1FjJJNqcN",
   "provenance": [
    {
     "file_id": "1u1tdrWmPx7bc3sIam7610HoBcU5SE2EE",
     "timestamp": 1703596047056
    }
   ]
  },
  "kernelspec": {
   "display_name": "Python 3 (ipykernel)",
   "language": "python",
   "name": "python3"
  },
  "language_info": {
   "codemirror_mode": {
    "name": "ipython",
    "version": 3
   },
   "file_extension": ".py",
   "mimetype": "text/x-python",
   "name": "python",
   "nbconvert_exporter": "python",
   "pygments_lexer": "ipython3",
   "version": "3.10.12"
  }
 },
 "nbformat": 4,
 "nbformat_minor": 4
}
