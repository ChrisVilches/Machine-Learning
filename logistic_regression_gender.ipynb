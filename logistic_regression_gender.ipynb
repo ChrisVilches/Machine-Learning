{
 "cells": [
  {
   "cell_type": "markdown",
   "id": "a5842697-6cb1-4adb-a60e-793d047ea7cb",
   "metadata": {},
   "source": [
    "# Logistic Regression\n",
    "\n",
    "Predicts gender based on weight and height."
   ]
  },
  {
   "cell_type": "code",
   "execution_count": 24,
   "id": "2e9089aa-41fc-4254-af4f-2e0e0fb14c77",
   "metadata": {},
   "outputs": [],
   "source": [
    "import numpy as np\n",
    "import pandas as pd\n",
    "import matplotlib.pyplot as plt\n",
    "from sklearn.model_selection import train_test_split\n",
    "from sklearn.linear_model import LogisticRegression\n",
    "from sklearn.metrics import confusion_matrix, f1_score"
   ]
  },
  {
   "cell_type": "markdown",
   "id": "021931eb-22f3-44f7-9787-dfede630d331",
   "metadata": {},
   "source": [
    "*Note:* `1 - women, 2 - men`"
   ]
  },
  {
   "cell_type": "code",
   "execution_count": 47,
   "id": "4a924709-3444-4147-8e22-34a7c7620b71",
   "metadata": {},
   "outputs": [
    {
     "data": {
      "text/html": [
       "<div>\n",
       "<style scoped>\n",
       "    .dataframe tbody tr th:only-of-type {\n",
       "        vertical-align: middle;\n",
       "    }\n",
       "\n",
       "    .dataframe tbody tr th {\n",
       "        vertical-align: top;\n",
       "    }\n",
       "\n",
       "    .dataframe thead th {\n",
       "        text-align: right;\n",
       "    }\n",
       "</style>\n",
       "<table border=\"1\" class=\"dataframe\">\n",
       "  <thead>\n",
       "    <tr style=\"text-align: right;\">\n",
       "      <th></th>\n",
       "      <th>weight</th>\n",
       "      <th>height</th>\n",
       "      <th>gender</th>\n",
       "    </tr>\n",
       "  </thead>\n",
       "  <tbody>\n",
       "    <tr>\n",
       "      <th>37237</th>\n",
       "      <td>89.0</td>\n",
       "      <td>164</td>\n",
       "      <td>0</td>\n",
       "    </tr>\n",
       "    <tr>\n",
       "      <th>47763</th>\n",
       "      <td>62.0</td>\n",
       "      <td>165</td>\n",
       "      <td>0</td>\n",
       "    </tr>\n",
       "    <tr>\n",
       "      <th>47078</th>\n",
       "      <td>71.0</td>\n",
       "      <td>168</td>\n",
       "      <td>0</td>\n",
       "    </tr>\n",
       "    <tr>\n",
       "      <th>55424</th>\n",
       "      <td>74.0</td>\n",
       "      <td>165</td>\n",
       "      <td>1</td>\n",
       "    </tr>\n",
       "    <tr>\n",
       "      <th>14057</th>\n",
       "      <td>80.0</td>\n",
       "      <td>164</td>\n",
       "      <td>0</td>\n",
       "    </tr>\n",
       "  </tbody>\n",
       "</table>\n",
       "</div>"
      ],
      "text/plain": [
       "       weight  height  gender\n",
       "37237    89.0     164       0\n",
       "47763    62.0     165       0\n",
       "47078    71.0     168       0\n",
       "55424    74.0     165       1\n",
       "14057    80.0     164       0"
      ]
     },
     "execution_count": 47,
     "metadata": {},
     "output_type": "execute_result"
    }
   ],
   "source": [
    "data = pd.read_csv('./data/cardio.csv', delimiter=';')\n",
    "data = data[['weight', 'height', 'gender']]\n",
    "\n",
    "data['gender'] -= 1\n",
    "\n",
    "train, test = train_test_split(data)\n",
    "\n",
    "train.head(5)"
   ]
  },
  {
   "cell_type": "markdown",
   "id": "3b5224d3-5020-41ce-bd11-0cf89ab757da",
   "metadata": {},
   "source": [
    "Ensure gender values are $0$ or $1$."
   ]
  },
  {
   "cell_type": "code",
   "execution_count": 48,
   "id": "b73850e6-f14e-421e-bc70-cffd3eab9bfd",
   "metadata": {},
   "outputs": [],
   "source": [
    "genders = sorted(data['gender'].unique())\n",
    "np.testing.assert_array_equal(genders, [0, 1])"
   ]
  },
  {
   "cell_type": "code",
   "execution_count": 32,
   "id": "04074ca5-8fe2-40a8-822c-ab01f4a0fa26",
   "metadata": {},
   "outputs": [],
   "source": [
    "train_x = train[['weight', 'height']]\n",
    "train_y = train['gender'].ravel()\n",
    "\n",
    "test_x = test[['weight', 'height']]\n",
    "test_y = test['gender'].ravel()"
   ]
  },
  {
   "cell_type": "code",
   "execution_count": 33,
   "id": "76ee2eda-b5c3-4c4b-bee7-347c6c4f3c5b",
   "metadata": {},
   "outputs": [],
   "source": [
    "model = LogisticRegression(random_state=0).fit(train_x, train_y)"
   ]
  },
  {
   "cell_type": "code",
   "execution_count": 36,
   "id": "5076f387-b8e9-4b3b-8253-be1c65406457",
   "metadata": {},
   "outputs": [],
   "source": [
    "predicted_y = model.predict(test_x)"
   ]
  },
  {
   "cell_type": "code",
   "execution_count": 35,
   "id": "96be9303-c863-4650-a500-3316d1695519",
   "metadata": {},
   "outputs": [
    {
     "name": "stdout",
     "output_type": "stream",
     "text": [
      "[[9900 1471]\n",
      " [2523 3606]]\n",
      "0.8321425569471295\n"
     ]
    }
   ],
   "source": [
    "print(confusion_matrix(test_y, predicted_y))\n",
    "print(f1_score(test_y, predicted_y, pos_label=0))"
   ]
  },
  {
   "cell_type": "code",
   "execution_count": null,
   "id": "2dbcaf50-9356-4feb-a5d7-bdd1895cf1eb",
   "metadata": {},
   "outputs": [],
   "source": []
  }
 ],
 "metadata": {
  "kernelspec": {
   "display_name": "Python 3 (ipykernel)",
   "language": "python",
   "name": "python3"
  },
  "language_info": {
   "codemirror_mode": {
    "name": "ipython",
    "version": 3
   },
   "file_extension": ".py",
   "mimetype": "text/x-python",
   "name": "python",
   "nbconvert_exporter": "python",
   "pygments_lexer": "ipython3",
   "version": "3.10.12"
  }
 },
 "nbformat": 4,
 "nbformat_minor": 5
}
