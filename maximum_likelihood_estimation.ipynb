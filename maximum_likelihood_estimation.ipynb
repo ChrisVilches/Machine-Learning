{
 "cells": [
  {
   "cell_type": "markdown",
   "id": "5d92b93c-7c91-4e50-9722-d2d49c3a2810",
   "metadata": {},
   "source": [
    "# Maximum Likelihood Estimation"
   ]
  },
  {
   "cell_type": "code",
   "execution_count": 1,
   "id": "1ad88f1a-e829-4053-9b12-0c52c8daa674",
   "metadata": {},
   "outputs": [],
   "source": [
    "import numpy as np\n",
    "from scipy import optimize\n",
    "from math import factorial\n",
    "from matplotlib import pyplot"
   ]
  },
  {
   "cell_type": "markdown",
   "id": "ba96faeb-1ce0-4633-bb70-2262fb87949f",
   "metadata": {},
   "source": [
    "## Definition"
   ]
  },
  {
   "cell_type": "markdown",
   "id": "e07825a0-dc9b-40ca-a0b7-92fb6361bd94",
   "metadata": {},
   "source": [
    "When $f(x | \\theta)$ is viewed as a function of $x$ with $\\theta$ fixed, it is a probability density function, and when viewed as a function of $\\theta$ with $x$ fixed, it is a likelihood function."
   ]
  },
  {
   "cell_type": "markdown",
   "id": "c7cc4779-4b5b-4e15-b171-e9f24ff444ff",
   "metadata": {},
   "source": [
    "Considering an i.i.d. (independent and identically distributed) sample $x_1, x_2 , \\dots, x_n$, the likelihood function is equal to the product of their probability mass functions.\n",
    "\n",
    "References:\n",
    "* https://math.stackexchange.com/questions/2399613/how-to-derive-the-likelihood-and-loglikelihood-of-the-poisson-distribution\n",
    "* https://www.statlect.com/fundamentals-of-statistics/Poisson-distribution-maximum-likelihood"
   ]
  },
  {
   "cell_type": "markdown",
   "id": "afda45c6-8463-419b-9fd1-e5dd5b0411ad",
   "metadata": {},
   "source": [
    "$$L(\\theta | x_1, x_2, \\dots, x_n) = \\prod{P(x_i | \\theta)}$$"
   ]
  },
  {
   "cell_type": "markdown",
   "id": "20385f0e-ac1d-4591-a69e-acb81cd10a2b",
   "metadata": {},
   "source": [
    "## Objective"
   ]
  },
  {
   "cell_type": "markdown",
   "id": "fbcbe51c-d897-41f0-97b0-e68d22c72ad9",
   "metadata": {},
   "source": [
    "We wish to estimate $\\theta$, or any other parameter the distribution has (can be multiple parameters)."
   ]
  },
  {
   "cell_type": "markdown",
   "id": "2fb722a7-a812-443b-93cd-4d0a0f2df356",
   "metadata": {},
   "source": [
    "## About Log Probability\n",
    "\n",
    "https://en.wikipedia.org/wiki/Log_probability\n",
    "\n",
    "> The use of log probabilities improves numerical stability, when the probabilities are very small, because of the way in which computers approximate real numbers."
   ]
  },
  {
   "cell_type": "markdown",
   "id": "4e4235c2-1ebd-4d7b-82c3-f9c77ab4b20e",
   "metadata": {},
   "source": [
    "## About Maximization\n",
    "\n",
    "Why does finding the $x$ that maximizes $ln(f(x))$ is the same as finding the $x$ that maximizes $f(x)$?\n",
    "\n",
    "Read: https://math.stackexchange.com/questions/647835/why-does-finding-the-x-that-maximizes-lnfx-is-the-same-as-finding-the"
   ]
  },
  {
   "cell_type": "markdown",
   "id": "2a5c95d7-5f76-4a33-9365-c6eb6724ed49",
   "metadata": {},
   "source": [
    "## Examples"
   ]
  },
  {
   "cell_type": "code",
   "execution_count": 2,
   "id": "4d31e3f5-f24c-4878-a3cf-8cd69373b13d",
   "metadata": {},
   "outputs": [],
   "source": [
    "def normal_eval(x, mean, std):\n",
    "  result = np.log(1)\n",
    "  result -= np.log(std)\n",
    "  result -= np.log(np.sqrt(2 * np.pi))\n",
    "  result -= 0.5 * ((x - mean) / std)**2\n",
    "  return result\n",
    "\n",
    "def poisson_eval(k, lam):\n",
    "  result = np.log(lam**k)\n",
    "  result += -lam\n",
    "  result -= np.log(factorial(k))\n",
    "  return result"
   ]
  },
  {
   "cell_type": "markdown",
   "id": "1b17e5ea-130e-47a1-8f5b-9392f6f0484b",
   "metadata": {},
   "source": [
    "### Normal Distribution\n",
    "\n",
    "https://en.wikipedia.org/wiki/Normal_distribution"
   ]
  },
  {
   "cell_type": "code",
   "execution_count": 3,
   "id": "80e5448a-2455-412f-b60b-6d115a41981a",
   "metadata": {},
   "outputs": [
    {
     "data": {
      "text/plain": [
       "array([57.17427284, 13.03518527])"
      ]
     },
     "execution_count": 3,
     "metadata": {},
     "output_type": "execute_result"
    }
   ],
   "source": [
    "correct_mean = 57.1\n",
    "correct_std = 13.1\n",
    "\n",
    "sample = np.random.normal(loc=correct_mean, scale=correct_std, size=3000)\n",
    "\n",
    "# TODO: Verify!!\n",
    "def normal_log_likelihood(args):\n",
    "  mean, std = args\n",
    "  return sum([normal_eval(xi, mean, std) for xi in sample])\n",
    "\n",
    "optimize.minimize(lambda x: -normal_log_likelihood(x), [40, 20]).x"
   ]
  },
  {
   "cell_type": "markdown",
   "id": "234d0969-4a95-4933-892b-a8989100c82c",
   "metadata": {},
   "source": [
    "### Poisson Distribution\n",
    "\n",
    "https://en.wikipedia.org/wiki/Poisson_distribution"
   ]
  },
  {
   "cell_type": "code",
   "execution_count": 4,
   "id": "cd4c3715-8992-4ba3-b5e5-bf963763d453",
   "metadata": {},
   "outputs": [
    {
     "data": {
      "text/plain": [
       "array([7.70400293])"
      ]
     },
     "execution_count": 4,
     "metadata": {},
     "output_type": "execute_result"
    }
   ],
   "source": [
    "correct_lambda = 7.61\n",
    "\n",
    "sample = np.random.poisson(lam=correct_lambda, size=3000)\n",
    "\n",
    "# TODO: Verify!!\n",
    "def poisson_log_likelihood(lam):\n",
    "  return sum([poisson_eval(xi, lam) for xi in sample])\n",
    "\n",
    "optimize.minimize(lambda x: -poisson_log_likelihood(x), 5).x"
   ]
  },
  {
   "cell_type": "markdown",
   "id": "2d1b484b-6716-435d-9850-f07d32b72cbd",
   "metadata": {},
   "source": [
    "### Linear Regression"
   ]
  },
  {
   "cell_type": "code",
   "execution_count": 5,
   "id": "43879ab4-307c-4dba-8f9e-71ff71492c2e",
   "metadata": {},
   "outputs": [
    {
     "data": {
      "text/plain": [
       "[<matplotlib.lines.Line2D at 0x7f11c38c93f0>]"
      ]
     },
     "execution_count": 5,
     "metadata": {},
     "output_type": "execute_result"
    },
    {
     "data": {
      "image/png": "[encoded data removed]",
      "text/plain": [
       "<Figure size 640x480 with 1 Axes>"
      ]
     },
     "metadata": {},
     "output_type": "display_data"
    }
   ],
   "source": [
    "correct_b0 = -700\n",
    "correct_b1 = 16.3\n",
    "correct_std = 63.5\n",
    "\n",
    "def fn(x):\n",
    "  return correct_b0 + correct_b1 * x\n",
    "\n",
    "x = np.linspace(0, 100, 3000)\n",
    "noise = np.random.normal(loc=0, scale=correct_std, size=len(x))\n",
    "y = np.vectorize(fn)(x) + noise\n",
    "\n",
    "pyplot.plot(x, y)"
   ]
  },
  {
   "cell_type": "markdown",
   "id": "af968808-cd5d-43f8-8e53-c02c88824377",
   "metadata": {},
   "source": [
    "# TODO: Review this\n",
    "\n",
    "Explanation can be found in the book *Mathematics for Machine Learning*.\n",
    "https://mml-book.github.io/\n",
    "\n",
    "Another simple way of explaining it:\n",
    "\n",
    "Imagine we have already fitted the line using $\\beta_0 + \\beta_1 x$. At every $x$ of the original sample, there could be one or multiple $y$ corresponding values (i.e. the noise), which are distributed under a normal distribution having its center (mean) on the fitted line. The mean is therefore also given by the line $\\beta_0 + \\beta_1 x$.\n",
    "\n",
    "This means the $y$ values are distributed under:\n",
    "\n",
    "$$N(\\beta_0 + \\beta_1 x,~ \\sigma)$$\n",
    "\n",
    "The standard deviation $\\sigma$ of the noise is a fixed constant value.\n",
    "\n",
    "Therefore we must estimate the $\\beta_0,~ \\beta_1,~ \\sigma$ parameters."
   ]
  },
  {
   "cell_type": "code",
   "execution_count": 6,
   "id": "d0399cbf-edcf-412b-ba62-03202f33890d",
   "metadata": {},
   "outputs": [
    {
     "data": {
      "text/plain": [
       "array([-699.54096836,   16.29362741,   64.97164465])"
      ]
     },
     "execution_count": 6,
     "metadata": {},
     "output_type": "execute_result"
    }
   ],
   "source": [
    "def normal_log_likelihood_linear_regression(args):\n",
    "  b0, b1, std = args\n",
    "  result = 0\n",
    "\n",
    "  for xi, yi in zip(x, y):\n",
    "    u = b0 + b1 * xi\n",
    "    result += normal_eval(yi, u, std)\n",
    "\n",
    "  return result\n",
    "\n",
    "\n",
    "bounds = ((None, None), (None, None), (0.000001, None))\n",
    "optimize.minimize(lambda x: -normal_log_likelihood_linear_regression(x), [50, 50, 50], bounds=bounds).x"
   ]
  }
 ],
 "metadata": {
  "kernelspec": {
   "display_name": "Python 3 (ipykernel)",
   "language": "python",
   "name": "python3"
  },
  "language_info": {
   "codemirror_mode": {
    "name": "ipython",
    "version": 3
   },
   "file_extension": ".py",
   "mimetype": "text/x-python",
   "name": "python",
   "nbconvert_exporter": "python",
   "pygments_lexer": "ipython3",
   "version": "3.10.12"
  }
 },
 "nbformat": 4,
 "nbformat_minor": 5
}
