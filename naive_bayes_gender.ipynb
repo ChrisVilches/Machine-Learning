{
 "cells": [
  {
   "cell_type": "markdown",
   "metadata": {
    "id": "tgm3xjcCCHLb"
   },
   "source": [
    "# Gaussian Naive Bayes (Gender Prediction)\n",
    "\n",
    "https://www.youtube.com/watch?v=H3EjCKtlVog"
   ]
  },
  {
   "cell_type": "code",
   "execution_count": 2,
   "metadata": {
    "colab": {
     "base_uri": "https://localhost:8080/"
    },
    "executionInfo": {
     "elapsed": 22739,
     "status": "ok",
     "timestamp": 1703764336520,
     "user": {
      "displayName": "Felo Vilches",
      "userId": "16392550540115515859"
     },
     "user_tz": -540
    },
    "id": "93RZbNPPaEeB",
    "outputId": "46ad4123-ff3c-4ff1-ae19-f69fca38b762"
   },
   "outputs": [],
   "source": [
    "import numpy as np\n",
    "import pandas as pd\n",
    "import scipy.stats as stats\n",
    "from sklearn.model_selection import train_test_split"
   ]
  },
  {
   "cell_type": "markdown",
   "metadata": {
    "id": "BBPNOVNAQ_PE"
   },
   "source": [
    "*Note:* `1 - women, 2 - men`"
   ]
  },
  {
   "cell_type": "code",
   "execution_count": 4,
   "metadata": {
    "colab": {
     "base_uri": "https://localhost:8080/",
     "height": 206
    },
    "executionInfo": {
     "elapsed": 431,
     "status": "ok",
     "timestamp": 1703764444054,
     "user": {
      "displayName": "Felo Vilches",
      "userId": "16392550540115515859"
     },
     "user_tz": -540
    },
    "id": "OqCzDu0RadWo",
    "outputId": "7621fad8-b9ba-4229-b91f-528c821f7762"
   },
   "outputs": [
    {
     "data": {
      "text/html": [
       "<div>\n",
       "<style scoped>\n",
       "    .dataframe tbody tr th:only-of-type {\n",
       "        vertical-align: middle;\n",
       "    }\n",
       "\n",
       "    .dataframe tbody tr th {\n",
       "        vertical-align: top;\n",
       "    }\n",
       "\n",
       "    .dataframe thead th {\n",
       "        text-align: right;\n",
       "    }\n",
       "</style>\n",
       "<table border=\"1\" class=\"dataframe\">\n",
       "  <thead>\n",
       "    <tr style=\"text-align: right;\">\n",
       "      <th></th>\n",
       "      <th>weight</th>\n",
       "      <th>height</th>\n",
       "      <th>gender</th>\n",
       "    </tr>\n",
       "  </thead>\n",
       "  <tbody>\n",
       "    <tr>\n",
       "      <th>0</th>\n",
       "      <td>62.0</td>\n",
       "      <td>168</td>\n",
       "      <td>2</td>\n",
       "    </tr>\n",
       "    <tr>\n",
       "      <th>1</th>\n",
       "      <td>85.0</td>\n",
       "      <td>156</td>\n",
       "      <td>1</td>\n",
       "    </tr>\n",
       "    <tr>\n",
       "      <th>2</th>\n",
       "      <td>64.0</td>\n",
       "      <td>165</td>\n",
       "      <td>1</td>\n",
       "    </tr>\n",
       "    <tr>\n",
       "      <th>3</th>\n",
       "      <td>82.0</td>\n",
       "      <td>169</td>\n",
       "      <td>2</td>\n",
       "    </tr>\n",
       "    <tr>\n",
       "      <th>4</th>\n",
       "      <td>56.0</td>\n",
       "      <td>156</td>\n",
       "      <td>1</td>\n",
       "    </tr>\n",
       "  </tbody>\n",
       "</table>\n",
       "</div>"
      ],
      "text/plain": [
       "   weight  height  gender\n",
       "0    62.0     168       2\n",
       "1    85.0     156       1\n",
       "2    64.0     165       1\n",
       "3    82.0     169       2\n",
       "4    56.0     156       1"
      ]
     },
     "execution_count": 4,
     "metadata": {},
     "output_type": "execute_result"
    }
   ],
   "source": [
    "data = pd.read_csv('./data/cardio.csv', delimiter=';')\n",
    "data = data[['weight', 'height', 'gender']]\n",
    "data.head(5)"
   ]
  },
  {
   "cell_type": "code",
   "execution_count": 8,
   "metadata": {
    "colab": {
     "base_uri": "https://localhost:8080/",
     "height": 206
    },
    "executionInfo": {
     "elapsed": 17,
     "status": "ok",
     "timestamp": 1703765742160,
     "user": {
      "displayName": "Felo Vilches",
      "userId": "16392550540115515859"
     },
     "user_tz": -540
    },
    "id": "33MW86YbRPSN",
    "outputId": "ae6613d1-77fe-4929-b20d-24b3338f673d"
   },
   "outputs": [
    {
     "data": {
      "text/html": [
       "<div>\n",
       "<style scoped>\n",
       "    .dataframe tbody tr th:only-of-type {\n",
       "        vertical-align: middle;\n",
       "    }\n",
       "\n",
       "    .dataframe tbody tr th {\n",
       "        vertical-align: top;\n",
       "    }\n",
       "\n",
       "    .dataframe thead th {\n",
       "        text-align: right;\n",
       "    }\n",
       "</style>\n",
       "<table border=\"1\" class=\"dataframe\">\n",
       "  <thead>\n",
       "    <tr style=\"text-align: right;\">\n",
       "      <th></th>\n",
       "      <th>weight</th>\n",
       "      <th>height</th>\n",
       "      <th>gender</th>\n",
       "    </tr>\n",
       "  </thead>\n",
       "  <tbody>\n",
       "    <tr>\n",
       "      <th>13270</th>\n",
       "      <td>80.0</td>\n",
       "      <td>150</td>\n",
       "      <td>1</td>\n",
       "    </tr>\n",
       "    <tr>\n",
       "      <th>67975</th>\n",
       "      <td>80.0</td>\n",
       "      <td>153</td>\n",
       "      <td>1</td>\n",
       "    </tr>\n",
       "    <tr>\n",
       "      <th>7345</th>\n",
       "      <td>63.0</td>\n",
       "      <td>150</td>\n",
       "      <td>1</td>\n",
       "    </tr>\n",
       "    <tr>\n",
       "      <th>39255</th>\n",
       "      <td>78.0</td>\n",
       "      <td>164</td>\n",
       "      <td>1</td>\n",
       "    </tr>\n",
       "    <tr>\n",
       "      <th>47715</th>\n",
       "      <td>58.0</td>\n",
       "      <td>156</td>\n",
       "      <td>1</td>\n",
       "    </tr>\n",
       "  </tbody>\n",
       "</table>\n",
       "</div>"
      ],
      "text/plain": [
       "       weight  height  gender\n",
       "13270    80.0     150       1\n",
       "67975    80.0     153       1\n",
       "7345     63.0     150       1\n",
       "39255    78.0     164       1\n",
       "47715    58.0     156       1"
      ]
     },
     "execution_count": 8,
     "metadata": {},
     "output_type": "execute_result"
    }
   ],
   "source": [
    "train, test = train_test_split(data, test_size=0.2)\n",
    "\n",
    "train.head(5)"
   ]
  },
  {
   "cell_type": "code",
   "execution_count": 11,
   "metadata": {
    "executionInfo": {
     "elapsed": 273,
     "status": "ok",
     "timestamp": 1703764460319,
     "user": {
      "displayName": "Felo Vilches",
      "userId": "16392550540115515859"
     },
     "user_tz": -540
    },
    "id": "oag4Gkld9txP"
   },
   "outputs": [],
   "source": [
    "features = ['weight', 'height']\n",
    "label_column = 'gender'\n",
    "labels = train[label_column].unique()"
   ]
  },
  {
   "cell_type": "code",
   "execution_count": 12,
   "metadata": {
    "executionInfo": {
     "elapsed": 12,
     "status": "ok",
     "timestamp": 1703764481222,
     "user": {
      "displayName": "Felo Vilches",
      "userId": "16392550540115515859"
     },
     "user_tz": -540
    },
    "id": "5rOW_Zstw9G4"
   },
   "outputs": [],
   "source": [
    "train_by_label = { label: train[train[label_column] == label] for label in labels }\n",
    "\n",
    "assert(train_by_label[1].shape[0] + train_by_label[2].shape[0] == train.shape[0])"
   ]
  },
  {
   "cell_type": "code",
   "execution_count": 13,
   "metadata": {
    "executionInfo": {
     "elapsed": 11,
     "status": "ok",
     "timestamp": 1703764494230,
     "user": {
      "displayName": "Felo Vilches",
      "userId": "16392550540115515859"
     },
     "user_tz": -540
    },
    "id": "MX0VlmKVwjIq"
   },
   "outputs": [],
   "source": [
    "total = train.shape[0]\n",
    "\n",
    "prior = { label: train_by_label[label].shape[0] / total for label in labels }\n",
    "\n",
    "assert(prior[1] + prior[2] == 1)"
   ]
  },
  {
   "cell_type": "code",
   "execution_count": 14,
   "metadata": {
    "executionInfo": {
     "elapsed": 290,
     "status": "ok",
     "timestamp": 1703764504167,
     "user": {
      "displayName": "Felo Vilches",
      "userId": "16392550540115515859"
     },
     "user_tz": -540
    },
    "id": "9Qznzw8JxVoh"
   },
   "outputs": [],
   "source": [
    "dists = { label: {} for label in labels }\n",
    "\n",
    "for label in labels:\n",
    "  for f in features:\n",
    "    col = train_by_label[label][f]\n",
    "    dists[label][f] = stats.norm(col.mean(), col.std())"
   ]
  },
  {
   "cell_type": "markdown",
   "metadata": {
    "id": "FQ8I_3p2FHN-"
   },
   "source": [
    "Avoiding underflow (when probabilities are too small) can be done with this trick:\n",
    "\n",
    "https://en.wikipedia.org/wiki/Log_probability"
   ]
  },
  {
   "cell_type": "code",
   "execution_count": 15,
   "metadata": {
    "executionInfo": {
     "elapsed": 299,
     "status": "ok",
     "timestamp": 1703764509332,
     "user": {
      "displayName": "Felo Vilches",
      "userId": "16392550540115515859"
     },
     "user_tz": -540
    },
    "id": "eTWrTM9QypMc"
   },
   "outputs": [],
   "source": [
    "def classify(input):\n",
    "  p = dict(prior)\n",
    "\n",
    "  for label in labels:\n",
    "    p[label] = np.log(p[label])\n",
    "\n",
    "    for f in features:\n",
    "      p[label] += np.log(dists[label][f].pdf(input[f]))\n",
    "\n",
    "  return max(p, key=lambda k: p[k])"
   ]
  },
  {
   "cell_type": "markdown",
   "metadata": {
    "id": "NDxm1g_O56E6"
   },
   "source": [
    "# Test"
   ]
  },
  {
   "cell_type": "code",
   "execution_count": 18,
   "metadata": {
    "executionInfo": {
     "elapsed": 284,
     "status": "ok",
     "timestamp": 1703764511444,
     "user": {
      "displayName": "Felo Vilches",
      "userId": "16392550540115515859"
     },
     "user_tz": -540
    },
    "id": "t1oL28pkB9E0"
   },
   "outputs": [],
   "source": [
    "from sklearn.metrics import confusion_matrix, f1_score"
   ]
  },
  {
   "cell_type": "code",
   "execution_count": 19,
   "metadata": {
    "colab": {
     "base_uri": "https://localhost:8080/"
    },
    "executionInfo": {
     "elapsed": 13677,
     "status": "ok",
     "timestamp": 1703765771296,
     "user": {
      "displayName": "Felo Vilches",
      "userId": "16392550540115515859"
     },
     "user_tz": -540
    },
    "id": "YWHRA-3WzGYW",
    "outputId": "63ac1d8e-b544-4309-a023-a67716815b72"
   },
   "outputs": [
    {
     "name": "stdout",
     "output_type": "stream",
     "text": [
      "[[8096 1006]\n",
      " [2313 2585]]\n",
      "0.8298908308133873\n"
     ]
    }
   ],
   "source": [
    "label_correct = test[label_column]\n",
    "label_predicted = [classify(row) for _, row in test.iterrows()]\n",
    "\n",
    "print(confusion_matrix(label_correct, label_predicted))\n",
    "print(f1_score(label_correct, label_predicted))"
   ]
  }
 ],
 "metadata": {
  "colab": {
   "authorship_tag": "ABX9TyPgKw05wCuHa22uxwUuFPYq",
   "provenance": []
  },
  "kernelspec": {
   "display_name": "Python 3 (ipykernel)",
   "language": "python",
   "name": "python3"
  },
  "language_info": {
   "codemirror_mode": {
    "name": "ipython",
    "version": 3
   },
   "file_extension": ".py",
   "mimetype": "text/x-python",
   "name": "python",
   "nbconvert_exporter": "python",
   "pygments_lexer": "ipython3",
   "version": "3.10.12"
  }
 },
 "nbformat": 4,
 "nbformat_minor": 4
}
