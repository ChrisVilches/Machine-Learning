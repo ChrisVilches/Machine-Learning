{
 "cells": [
  {
   "cell_type": "code",
   "execution_count": 13,
   "metadata": {
    "executionInfo": {
     "elapsed": 459,
     "status": "ok",
     "timestamp": 1703678385047,
     "user": {
      "displayName": "Felo Vilches",
      "userId": "16392550540115515859"
     },
     "user_tz": -540
    },
    "id": "dhtHRPOPDEwU"
   },
   "outputs": [],
   "source": [
    "import numpy as np"
   ]
  },
  {
   "cell_type": "markdown",
   "metadata": {
    "id": "Bdxa7vtyGfzm"
   },
   "source": [
    "# Paraboloid\n",
    "\n",
    "Equation for a paraboloid centered on $(1, 1)$.\n",
    "\n",
    "https://en.wikipedia.org/wiki/Paraboloid"
   ]
  },
  {
   "cell_type": "code",
   "execution_count": 14,
   "metadata": {
    "executionInfo": {
     "elapsed": 2,
     "status": "ok",
     "timestamp": 1703678386531,
     "user": {
      "displayName": "Felo Vilches",
      "userId": "16392550540115515859"
     },
     "user_tz": -540
    },
    "id": "E2FeA1gfCl59"
   },
   "outputs": [],
   "source": [
    "def paraboloid(x, y):\n",
    "  return (x - 1)**2 + (y - 1)**2\n",
    "\n",
    "def gradient_paraboloid(x, y):\n",
    "  return np.array([2 * x - 2, 2 * y - 2])"
   ]
  },
  {
   "cell_type": "markdown",
   "metadata": {},
   "source": [
    "# Gradient Descent\n",
    "\n",
    "Gradient descent is a method for unconstrained mathematical optimization. It is a first-order iterative algorithm for finding a local minimum of a differentiable multivariate function."
   ]
  },
  {
   "cell_type": "code",
   "execution_count": 15,
   "metadata": {
    "executionInfo": {
     "elapsed": 2,
     "status": "ok",
     "timestamp": 1703678388270,
     "user": {
      "displayName": "Felo Vilches",
      "userId": "16392550540115515859"
     },
     "user_tz": -540
    },
    "id": "OzHkc6KuDTot"
   },
   "outputs": [],
   "source": [
    "def gradient_descent(x0, y0, k, iters):\n",
    "  curr = np.array([x0, y0])\n",
    "\n",
    "  for _ in range(iters):\n",
    "    deriv = gradient_paraboloid(curr[0], curr[1])\n",
    "    curr = curr - k * deriv\n",
    "\n",
    "  return curr"
   ]
  },
  {
   "cell_type": "code",
   "execution_count": 16,
   "metadata": {
    "executionInfo": {
     "elapsed": 1586,
     "status": "ok",
     "timestamp": 1703678395610,
     "user": {
      "displayName": "Felo Vilches",
      "userId": "16392550540115515859"
     },
     "user_tz": -540
    },
    "id": "5CfUrS-uDrT4"
   },
   "outputs": [],
   "source": [
    "correct_ans = np.array([1, 1])\n",
    "\n",
    "def test(x, y):\n",
    "  result = gradient_descent(x, y, 0.001, 50000).round(6)\n",
    "  assert(np.array_equal(result, correct_ans))\n",
    "\n",
    "test(5, 6)\n",
    "test(0, 0)\n",
    "test(1, 1)\n",
    "test(-1, 1)\n",
    "test(5, -5)\n",
    "test(-1000, 1000)\n",
    "test(-1000, -10000)\n",
    "test(-100000, -1000000)\n",
    "test(-100000, 234000000)"
   ]
  }
 ],
 "metadata": {
  "colab": {
   "authorship_tag": "ABX9TyNogjCo2pp3cf9BF6cXFDoY",
   "provenance": []
  },
  "kernelspec": {
   "display_name": "Python 3 (ipykernel)",
   "language": "python",
   "name": "python3"
  },
  "language_info": {
   "codemirror_mode": {
    "name": "ipython",
    "version": 3
   },
   "file_extension": ".py",
   "mimetype": "text/x-python",
   "name": "python",
   "nbconvert_exporter": "python",
   "pygments_lexer": "ipython3",
   "version": "3.10.12"
  }
 },
 "nbformat": 4,
 "nbformat_minor": 4
}
