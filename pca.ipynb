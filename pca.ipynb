{
 "cells": [
  {
   "cell_type": "markdown",
   "id": "87873b97-06ab-4e3f-a518-832688ccf161",
   "metadata": {},
   "source": [
    "# Principal Component Analysis (PCA)"
   ]
  },
  {
   "cell_type": "code",
   "execution_count": 1,
   "id": "cbfbb2cd-1e56-43d0-a9a8-643c0d26bf5b",
   "metadata": {},
   "outputs": [],
   "source": [
    "import pandas as pd\n",
    "import numpy as np\n",
    "from matplotlib import pyplot\n",
    "from sklearn.decomposition import PCA\n",
    "from sklearn.preprocessing import StandardScaler"
   ]
  },
  {
   "cell_type": "code",
   "execution_count": 2,
   "id": "f8727d13-cf2e-496d-9a04-62c7680e65cb",
   "metadata": {},
   "outputs": [
    {
     "data": {
      "text/html": [
       "<div>\n",
       "<style scoped>\n",
       "    .dataframe tbody tr th:only-of-type {\n",
       "        vertical-align: middle;\n",
       "    }\n",
       "\n",
       "    .dataframe tbody tr th {\n",
       "        vertical-align: top;\n",
       "    }\n",
       "\n",
       "    .dataframe thead th {\n",
       "        text-align: right;\n",
       "    }\n",
       "</style>\n",
       "<table border=\"1\" class=\"dataframe\">\n",
       "  <thead>\n",
       "    <tr style=\"text-align: right;\">\n",
       "      <th></th>\n",
       "      <th>Bread</th>\n",
       "      <th>Burger</th>\n",
       "      <th>Milk</th>\n",
       "      <th>Oranges</th>\n",
       "      <th>Tomatoes</th>\n",
       "    </tr>\n",
       "    <tr>\n",
       "      <th>City</th>\n",
       "      <th></th>\n",
       "      <th></th>\n",
       "      <th></th>\n",
       "      <th></th>\n",
       "      <th></th>\n",
       "    </tr>\n",
       "  </thead>\n",
       "  <tbody>\n",
       "    <tr>\n",
       "      <th>ATLANTA</th>\n",
       "      <td>24.5</td>\n",
       "      <td>94.5</td>\n",
       "      <td>73.9</td>\n",
       "      <td>80.1</td>\n",
       "      <td>41.6</td>\n",
       "    </tr>\n",
       "    <tr>\n",
       "      <th>BALTIMORE</th>\n",
       "      <td>26.5</td>\n",
       "      <td>91.0</td>\n",
       "      <td>67.5</td>\n",
       "      <td>74.6</td>\n",
       "      <td>53.3</td>\n",
       "    </tr>\n",
       "    <tr>\n",
       "      <th>BOSTON</th>\n",
       "      <td>29.7</td>\n",
       "      <td>100.8</td>\n",
       "      <td>61.4</td>\n",
       "      <td>104.0</td>\n",
       "      <td>59.6</td>\n",
       "    </tr>\n",
       "    <tr>\n",
       "      <th>BUFFALO</th>\n",
       "      <td>22.8</td>\n",
       "      <td>86.6</td>\n",
       "      <td>65.3</td>\n",
       "      <td>118.4</td>\n",
       "      <td>51.2</td>\n",
       "    </tr>\n",
       "    <tr>\n",
       "      <th>CHICAGO</th>\n",
       "      <td>26.7</td>\n",
       "      <td>86.7</td>\n",
       "      <td>62.7</td>\n",
       "      <td>105.9</td>\n",
       "      <td>51.2</td>\n",
       "    </tr>\n",
       "  </tbody>\n",
       "</table>\n",
       "</div>"
      ],
      "text/plain": [
       "           Bread  Burger  Milk  Oranges  Tomatoes\n",
       "City                                             \n",
       "ATLANTA     24.5    94.5  73.9     80.1      41.6\n",
       "BALTIMORE   26.5    91.0  67.5     74.6      53.3\n",
       "BOSTON      29.7   100.8  61.4    104.0      59.6\n",
       "BUFFALO     22.8    86.6  65.3    118.4      51.2\n",
       "CHICAGO     26.7    86.7  62.7    105.9      51.2"
      ]
     },
     "execution_count": 2,
     "metadata": {},
     "output_type": "execute_result"
    }
   ],
   "source": [
    "df_raw = pd.read_csv('./data/foodusa.csv', index_col=0)\n",
    "df_raw.head()"
   ]
  },
  {
   "cell_type": "code",
   "execution_count": 3,
   "id": "e443158b-6b6f-487a-9885-81cc2acfaaee",
   "metadata": {},
   "outputs": [
    {
     "data": {
      "text/html": [
       "<div>\n",
       "<style scoped>\n",
       "    .dataframe tbody tr th:only-of-type {\n",
       "        vertical-align: middle;\n",
       "    }\n",
       "\n",
       "    .dataframe tbody tr th {\n",
       "        vertical-align: top;\n",
       "    }\n",
       "\n",
       "    .dataframe thead th {\n",
       "        text-align: right;\n",
       "    }\n",
       "</style>\n",
       "<table border=\"1\" class=\"dataframe\">\n",
       "  <thead>\n",
       "    <tr style=\"text-align: right;\">\n",
       "      <th></th>\n",
       "      <th>Bread</th>\n",
       "      <th>Burger</th>\n",
       "      <th>Milk</th>\n",
       "      <th>Oranges</th>\n",
       "      <th>Tomatoes</th>\n",
       "    </tr>\n",
       "    <tr>\n",
       "      <th>City</th>\n",
       "      <th></th>\n",
       "      <th></th>\n",
       "      <th></th>\n",
       "      <th></th>\n",
       "      <th></th>\n",
       "    </tr>\n",
       "  </thead>\n",
       "  <tbody>\n",
       "    <tr>\n",
       "      <th>ATLANTA</th>\n",
       "      <td>-0.322747</td>\n",
       "      <td>0.357765</td>\n",
       "      <td>1.707156</td>\n",
       "      <td>-1.643751</td>\n",
       "      <td>-0.963643</td>\n",
       "    </tr>\n",
       "    <tr>\n",
       "      <th>BALTIMORE</th>\n",
       "      <td>0.492987</td>\n",
       "      <td>-0.115920</td>\n",
       "      <td>0.765630</td>\n",
       "      <td>-2.038688</td>\n",
       "      <td>0.609878</td>\n",
       "    </tr>\n",
       "    <tr>\n",
       "      <th>BOSTON</th>\n",
       "      <td>1.798161</td>\n",
       "      <td>1.210398</td>\n",
       "      <td>-0.131763</td>\n",
       "      <td>0.072431</td>\n",
       "      <td>1.457158</td>\n",
       "    </tr>\n",
       "    <tr>\n",
       "      <th>BUFFALO</th>\n",
       "      <td>-1.016120</td>\n",
       "      <td>-0.711410</td>\n",
       "      <td>0.441980</td>\n",
       "      <td>1.106449</td>\n",
       "      <td>0.327451</td>\n",
       "    </tr>\n",
       "    <tr>\n",
       "      <th>CHICAGO</th>\n",
       "      <td>0.574560</td>\n",
       "      <td>-0.697876</td>\n",
       "      <td>0.059485</td>\n",
       "      <td>0.208864</td>\n",
       "      <td>0.327451</td>\n",
       "    </tr>\n",
       "  </tbody>\n",
       "</table>\n",
       "</div>"
      ],
      "text/plain": [
       "              Bread    Burger      Milk   Oranges  Tomatoes\n",
       "City                                                       \n",
       "ATLANTA   -0.322747  0.357765  1.707156 -1.643751 -0.963643\n",
       "BALTIMORE  0.492987 -0.115920  0.765630 -2.038688  0.609878\n",
       "BOSTON     1.798161  1.210398 -0.131763  0.072431  1.457158\n",
       "BUFFALO   -1.016120 -0.711410  0.441980  1.106449  0.327451\n",
       "CHICAGO    0.574560 -0.697876  0.059485  0.208864  0.327451"
      ]
     },
     "execution_count": 3,
     "metadata": {},
     "output_type": "execute_result"
    }
   ],
   "source": [
    "scaler = StandardScaler()\n",
    "df_normalized = df_raw.copy()\n",
    "df_normalized.iloc[:, :] = scaler.fit_transform(df_raw)\n",
    "df_normalized.head()"
   ]
  },
  {
   "cell_type": "code",
   "execution_count": 4,
   "id": "6512df29-29e4-4e78-a90c-0dfd3ad24516",
   "metadata": {},
   "outputs": [
    {
     "data": {
      "text/html": [
       "<div>\n",
       "<style scoped>\n",
       "    .dataframe tbody tr th:only-of-type {\n",
       "        vertical-align: middle;\n",
       "    }\n",
       "\n",
       "    .dataframe tbody tr th {\n",
       "        vertical-align: top;\n",
       "    }\n",
       "\n",
       "    .dataframe thead th {\n",
       "        text-align: right;\n",
       "    }\n",
       "</style>\n",
       "<table border=\"1\" class=\"dataframe\">\n",
       "  <thead>\n",
       "    <tr style=\"text-align: right;\">\n",
       "      <th></th>\n",
       "      <th>Bread</th>\n",
       "      <th>Burger</th>\n",
       "      <th>Milk</th>\n",
       "      <th>Oranges</th>\n",
       "      <th>Tomatoes</th>\n",
       "    </tr>\n",
       "  </thead>\n",
       "  <tbody>\n",
       "    <tr>\n",
       "      <th>Bread</th>\n",
       "      <td>1.045455</td>\n",
       "      <td>0.712687</td>\n",
       "      <td>0.343159</td>\n",
       "      <td>0.038378</td>\n",
       "      <td>0.399616</td>\n",
       "    </tr>\n",
       "    <tr>\n",
       "      <th>Burger</th>\n",
       "      <td>0.712687</td>\n",
       "      <td>1.045455</td>\n",
       "      <td>0.348577</td>\n",
       "      <td>0.220525</td>\n",
       "      <td>0.660621</td>\n",
       "    </tr>\n",
       "    <tr>\n",
       "      <th>Milk</th>\n",
       "      <td>0.343159</td>\n",
       "      <td>0.348577</td>\n",
       "      <td>1.045455</td>\n",
       "      <td>-0.002905</td>\n",
       "      <td>0.265981</td>\n",
       "    </tr>\n",
       "    <tr>\n",
       "      <th>Oranges</th>\n",
       "      <td>0.038378</td>\n",
       "      <td>0.220525</td>\n",
       "      <td>-0.002905</td>\n",
       "      <td>1.045455</td>\n",
       "      <td>0.374337</td>\n",
       "    </tr>\n",
       "    <tr>\n",
       "      <th>Tomatoes</th>\n",
       "      <td>0.399616</td>\n",
       "      <td>0.660621</td>\n",
       "      <td>0.265981</td>\n",
       "      <td>0.374337</td>\n",
       "      <td>1.045455</td>\n",
       "    </tr>\n",
       "  </tbody>\n",
       "</table>\n",
       "</div>"
      ],
      "text/plain": [
       "             Bread    Burger      Milk   Oranges  Tomatoes\n",
       "Bread     1.045455  0.712687  0.343159  0.038378  0.399616\n",
       "Burger    0.712687  1.045455  0.348577  0.220525  0.660621\n",
       "Milk      0.343159  0.348577  1.045455 -0.002905  0.265981\n",
       "Oranges   0.038378  0.220525 -0.002905  1.045455  0.374337\n",
       "Tomatoes  0.399616  0.660621  0.265981  0.374337  1.045455"
      ]
     },
     "execution_count": 4,
     "metadata": {},
     "output_type": "execute_result"
    }
   ],
   "source": [
    "cov_mat = df_normalized.cov()\n",
    "cov_mat"
   ]
  },
  {
   "cell_type": "code",
   "execution_count": 5,
   "id": "b108910c-b590-41c7-8921-5ef1bccf17e8",
   "metadata": {},
   "outputs": [
    {
     "data": {
      "text/plain": [
       "(array([2.53258013, 1.15488739, 0.25170918, 0.77204783, 0.5160482 ]),\n",
       " array([[ 0.49614868,  0.57570231,  0.33956956,  0.22498981,  0.50643404],\n",
       "        [ 0.30861972,  0.04380176,  0.43080905, -0.79677694, -0.28702846],\n",
       "        [ 0.49989887, -0.77263501, -0.00788224,  0.0059668 ,  0.39120139],\n",
       "        [ 0.38639398,  0.26247227, -0.83463952, -0.29160659,  0.01226602],\n",
       "        [-0.50930459,  0.02813712, -0.0491    , -0.47901574,  0.71270629]]))"
      ]
     },
     "execution_count": 5,
     "metadata": {},
     "output_type": "execute_result"
    }
   ],
   "source": [
    "eigenvalues, eigenvectors = np.linalg.eig(cov_mat)\n",
    "eigenvectors = eigenvectors.T\n",
    "eigenvalues, eigenvectors"
   ]
  },
  {
   "cell_type": "code",
   "execution_count": 6,
   "id": "572c45bd-567b-4685-bfc5-97307896d155",
   "metadata": {},
   "outputs": [
    {
     "data": {
      "text/plain": [
       "array([0, 1, 3, 4, 2])"
      ]
     },
     "execution_count": 6,
     "metadata": {},
     "output_type": "execute_result"
    }
   ],
   "source": [
    "e_indices = np.argsort(eigenvalues)[::-1]\n",
    "e_indices"
   ]
  },
  {
   "cell_type": "code",
   "execution_count": 78,
   "id": "368fd572-9de5-413d-a94f-22ffa457412d",
   "metadata": {},
   "outputs": [],
   "source": [
    "components = 3"
   ]
  },
  {
   "cell_type": "markdown",
   "id": "bf9272a5-1b9f-4e3e-8cd6-d236c7378315",
   "metadata": {},
   "source": [
    "## Compute Solutions"
   ]
  },
  {
   "cell_type": "code",
   "execution_count": 87,
   "id": "e6673f51-0bcb-454b-a8f7-b3518dcd7a7e",
   "metadata": {},
   "outputs": [],
   "source": [
    "pca = PCA(n_components=components)\n",
    "sklearn_pca_result = pca.fit_transform(df_normalized)"
   ]
  },
  {
   "cell_type": "code",
   "execution_count": 80,
   "id": "31c82897-fc6e-49c6-b209-4b30eb953fde",
   "metadata": {},
   "outputs": [],
   "source": [
    "eigenvectors_sorted = eigenvectors[e_indices]\n",
    "\n",
    "my_result = np.matmul(df_normalized, eigenvectors_sorted[:components].T)"
   ]
  },
  {
   "cell_type": "code",
   "execution_count": 86,
   "id": "ec5b0a5f-d5d5-4692-a06e-9d1ef913e027",
   "metadata": {},
   "outputs": [
    {
     "data": {
      "text/html": [
       "<div>\n",
       "<style scoped>\n",
       "    .dataframe tbody tr th:only-of-type {\n",
       "        vertical-align: middle;\n",
       "    }\n",
       "\n",
       "    .dataframe tbody tr th {\n",
       "        vertical-align: top;\n",
       "    }\n",
       "\n",
       "    .dataframe thead th {\n",
       "        text-align: right;\n",
       "    }\n",
       "</style>\n",
       "<table border=\"1\" class=\"dataframe\">\n",
       "  <thead>\n",
       "    <tr style=\"text-align: right;\">\n",
       "      <th></th>\n",
       "      <th>0</th>\n",
       "      <th>1</th>\n",
       "      <th>2</th>\n",
       "    </tr>\n",
       "    <tr>\n",
       "      <th>City</th>\n",
       "      <th></th>\n",
       "      <th></th>\n",
       "      <th></th>\n",
       "    </tr>\n",
       "  </thead>\n",
       "  <tbody>\n",
       "    <tr>\n",
       "      <th>ATLANTA</th>\n",
       "      <td>-0.232315</td>\n",
       "      <td>2.237819</td>\n",
       "      <td>-0.988156</td>\n",
       "    </tr>\n",
       "    <tr>\n",
       "      <th>BALTIMORE</th>\n",
       "      <td>0.288023</td>\n",
       "      <td>1.926235</td>\n",
       "      <td>0.123012</td>\n",
       "    </tr>\n",
       "    <tr>\n",
       "      <th>BOSTON</th>\n",
       "      <td>2.298492</td>\n",
       "      <td>0.075243</td>\n",
       "      <td>1.119221</td>\n",
       "    </tr>\n",
       "  </tbody>\n",
       "</table>\n",
       "</div>"
      ],
      "text/plain": [
       "                  0         1         2\n",
       "City                                   \n",
       "ATLANTA   -0.232315  2.237819 -0.988156\n",
       "BALTIMORE  0.288023  1.926235  0.123012\n",
       "BOSTON     2.298492  0.075243  1.119221"
      ]
     },
     "execution_count": 86,
     "metadata": {},
     "output_type": "execute_result"
    }
   ],
   "source": [
    "# Some values in the eigenvectors have flipped signs, when comparing it to the\n",
    "# solution by scikit-learn.\n",
    "# https://stats.stackexchange.com/questions/30348/is-it-acceptable-to-reverse-a-sign-of-a-principal-component-score\n",
    "np.testing.assert_allclose(np.abs(my_result), np.abs(sklearn_pca_result))\n",
    "\n",
    "# TODO: Are these sign flips supposed to be per entire eigenvector? or can it be (like in my case)\n",
    "#       only some elements of some eigenvectors?\n",
    "\n",
    "my_result.head(3)"
   ]
  },
  {
   "cell_type": "markdown",
   "id": "125b74c4-83ca-4143-b54a-b03ba83f1b9d",
   "metadata": {},
   "source": [
    "## Explained Variance"
   ]
  },
  {
   "cell_type": "code",
   "execution_count": 61,
   "id": "19c4007e-77bf-4a04-8876-827bb2d4a2df",
   "metadata": {},
   "outputs": [
    {
     "data": {
      "text/plain": [
       "array([0.48449359, 0.22093498, 0.04815306, 0.14769611, 0.09872226])"
      ]
     },
     "execution_count": 61,
     "metadata": {},
     "output_type": "execute_result"
    }
   ],
   "source": [
    "explained_variance = eigenvalues / sum(eigenvalues)\n",
    "explained_variance"
   ]
  },
  {
   "cell_type": "code",
   "execution_count": 62,
   "id": "0341e90f-be42-45fe-bcef-906d5ef00024",
   "metadata": {},
   "outputs": [
    {
     "data": {
      "text/plain": [
       "<BarContainer object of 5 artists>"
      ]
     },
     "execution_count": 62,
     "metadata": {},
     "output_type": "execute_result"
    },
    {
     "data": {
      "image/png": "[encoded data removed]",
      "text/plain": [
       "<Figure size 640x480 with 1 Axes>"
      ]
     },
     "metadata": {},
     "output_type": "display_data"
    }
   ],
   "source": [
    "pyplot.bar(range(len(explained_variance)), explained_variance)"
   ]
  },
  {
   "cell_type": "markdown",
   "id": "142adfac-1d63-49b4-8918-51bce5b3bc94",
   "metadata": {},
   "source": [
    "## Plot"
   ]
  },
  {
   "cell_type": "code",
   "execution_count": 88,
   "id": "4e108630-0ca6-4cb1-b592-9db234c0e632",
   "metadata": {},
   "outputs": [
    {
     "data": {
      "text/plain": [
       "<matplotlib.collections.PathCollection at 0x7f5d10ddaa70>"
      ]
     },
     "execution_count": 88,
     "metadata": {},
     "output_type": "execute_result"
    },
    {
     "data": {
      "image/png": "[encoded data removed]",
      "text/plain": [
       "<Figure size 640x480 with 1 Axes>"
      ]
     },
     "metadata": {},
     "output_type": "display_data"
    }
   ],
   "source": [
    "pyplot.scatter(df_normalized.values[:, 0], df_normalized.values[:, 1], color='blue')\n",
    "pyplot.scatter(my_result.values[:, 0], my_result.values[:, 1], color='red', alpha=0.3)\n",
    "pyplot.scatter(sklearn_pca_result[:, 0], sklearn_pca_result[:, 1], color='green', alpha=0.3)"
   ]
  }
 ],
 "metadata": {
  "kernelspec": {
   "display_name": "Python 3 (ipykernel)",
   "language": "python",
   "name": "python3"
  },
  "language_info": {
   "codemirror_mode": {
    "name": "ipython",
    "version": 3
   },
   "file_extension": ".py",
   "mimetype": "text/x-python",
   "name": "python",
   "nbconvert_exporter": "python",
   "pygments_lexer": "ipython3",
   "version": "3.10.12"
  }
 },
 "nbformat": 4,
 "nbformat_minor": 5
}
