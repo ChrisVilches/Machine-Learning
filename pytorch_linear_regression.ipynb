{
  "cells": [
    {
      "cell_type": "markdown",
      "metadata": {},
      "source": [
        "# PyTorch Linear Regression"
      ],
      "id": "7e3589f0-8f8a-40d2-94e8-a1e9d31f6122"
    },
    {
      "cell_type": "code",
      "execution_count": 1,
      "metadata": {},
      "outputs": [
        {
          "output_type": "display_data",
          "metadata": {},
          "data": {
            "text/plain": [
              "'2.0.1+cu117'"
            ]
          }
        }
      ],
      "source": [
        "import torch\n",
        "from torch import nn\n",
        "import matplotlib.pyplot as plt\n",
        "from util.torch import split_data\n",
        "torch.__version__"
      ],
      "id": "ae6079b9"
    },
    {
      "cell_type": "markdown",
      "metadata": {},
      "source": [
        "## Generate Data"
      ],
      "id": "e358af4b-5dac-46ca-94e3-416407d13ea4"
    },
    {
      "cell_type": "code",
      "execution_count": 2,
      "metadata": {},
      "outputs": [
        {
          "output_type": "stream",
          "name": "stdout",
          "text": [
            "torch.Size([30, 1]) torch.Size([30, 1])"
          ]
        }
      ],
      "source": [
        "start = 1\n",
        "end = 10\n",
        "step = 0.3\n",
        "\n",
        "X = torch.arange(start, end, step).unsqueeze(dim=1)\n",
        "y = 2 * X + 5\n",
        "\n",
        "print(X.shape, y.shape)"
      ],
      "id": "fafee98b"
    },
    {
      "cell_type": "markdown",
      "metadata": {},
      "source": [
        "## Define Linear Regression Model"
      ],
      "id": "ce0ffe12-162b-42f3-a2c4-1ebaa729fbe8"
    },
    {
      "cell_type": "code",
      "execution_count": 3,
      "metadata": {},
      "outputs": [],
      "source": [
        "class LinearRegression(nn.Module):\n",
        "    def __init__(self):\n",
        "        super().__init__()\n",
        "        self.linear = nn.Linear(1, 1)\n",
        "\n",
        "    def forward(self, x: torch.Tensor) -> torch.Tensor:\n",
        "        return self.linear(x)"
      ],
      "id": "3a122724"
    },
    {
      "cell_type": "markdown",
      "metadata": {},
      "source": [
        "## Split Data into Train and Test Sets"
      ],
      "id": "c1d64386-0da5-4ff0-bb8b-cbab74d79f9b"
    },
    {
      "cell_type": "code",
      "execution_count": 4,
      "metadata": {},
      "outputs": [],
      "source": [
        "X_train, y_train, X_test, y_test = split_data(X, y)"
      ],
      "id": "edcccc48"
    },
    {
      "cell_type": "markdown",
      "metadata": {},
      "source": [
        "## Train and Visualize the Linear Regression Model"
      ],
      "id": "0b560c9e-395b-4eba-b0f4-10235d22dd8b"
    },
    {
      "cell_type": "code",
      "execution_count": 5,
      "metadata": {},
      "outputs": [
        {
          "output_type": "display_data",
          "metadata": {},
          "data": {
            "image/png": "[encoded data removed]"
          }
        }
      ],
      "source": [
        "torch.manual_seed(42)\n",
        "model = LinearRegression()\n",
        "\n",
        "fn_loss = torch.nn.L1Loss()\n",
        "optimizer = torch.optim.SGD(params=model.parameters(), lr=0.01)\n",
        "\n",
        "epochs = 1000\n",
        "\n",
        "plt.scatter(X_train, y_train, color='black')\n",
        "\n",
        "for epoch in range(epochs):\n",
        "    model.train()\n",
        "    train_loss = fn_loss(model(X_train), y_train)\n",
        "    optimizer.zero_grad()\n",
        "    train_loss.backward()\n",
        "    optimizer.step()\n",
        "\n",
        "    if epoch % 10 == 0:\n",
        "        model.eval()\n",
        "        with torch.inference_mode():\n",
        "            test_pred = model(X_test)\n",
        "            y_pred = model(X_test)\n",
        "            plt.scatter(X_test, test_pred, color='gray')\n",
        "\n",
        "with torch.inference_mode():\n",
        "    plt.scatter(X_test, model(X_test), color='blue')"
      ],
      "id": "cfa024d7"
    }
  ],
  "nbformat": 4,
  "nbformat_minor": 5,
  "metadata": {
    "kernelspec": {
      "name": "python3",
      "display_name": "Python 3 (ipykernel)",
      "language": "python",
      "path": "/usr/share/jupyter/kernels/python3"
    }
  }
}