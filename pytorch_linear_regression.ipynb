{
  "cells": [
    {
      "cell_type": "markdown",
      "metadata": {},
      "source": [
        "# PyTorch Linear Regression"
      ],
      "id": "09f59d67-491a-4fe7-9b2a-f6e865ec29de"
    },
    {
      "cell_type": "code",
      "execution_count": 1,
      "metadata": {},
      "outputs": [
        {
          "output_type": "display_data",
          "metadata": {},
          "data": {
            "text/plain": [
              "'2.0.1+cu117'"
            ]
          }
        }
      ],
      "source": [
        "import torch\n",
        "from torch import nn\n",
        "import matplotlib.pyplot as plt\n",
        "from util.torch import split_data\n",
        "torch.__version__"
      ],
      "id": "e59795e3"
    },
    {
      "cell_type": "markdown",
      "metadata": {},
      "source": [
        "## Generate Data"
      ],
      "id": "89c0f7b3-72de-4ac4-b71e-e7f49e81ab23"
    },
    {
      "cell_type": "code",
      "execution_count": 2,
      "metadata": {},
      "outputs": [
        {
          "output_type": "stream",
          "name": "stdout",
          "text": [
            "torch.Size([30, 1]) torch.Size([30, 1])"
          ]
        }
      ],
      "source": [
        "start = 1\n",
        "end = 10\n",
        "step = 0.3\n",
        "\n",
        "X = torch.arange(start, end, step).unsqueeze(dim=1)\n",
        "y = 2 * X + 5\n",
        "\n",
        "print(X.shape, y.shape)"
      ],
      "id": "5bca3123"
    },
    {
      "cell_type": "markdown",
      "metadata": {},
      "source": [
        "## Define Linear Regression Model"
      ],
      "id": "f124430b-fd00-47ff-b3ba-5b4731ec9a9b"
    },
    {
      "cell_type": "code",
      "execution_count": 3,
      "metadata": {},
      "outputs": [],
      "source": [
        "class LinearRegression(nn.Module):\n",
        "    def __init__(self):\n",
        "        super().__init__()\n",
        "        self.linear = nn.Linear(1, 1)\n",
        "\n",
        "    def forward(self, x: torch.Tensor) -> torch.Tensor:\n",
        "        return self.linear(x)"
      ],
      "id": "49ffd49f"
    },
    {
      "cell_type": "markdown",
      "metadata": {},
      "source": [
        "## Split Data into Train and Test Sets"
      ],
      "id": "c400aa5c-f93b-49bc-a8ab-db27d6626a81"
    },
    {
      "cell_type": "code",
      "execution_count": 4,
      "metadata": {},
      "outputs": [],
      "source": [
        "X_train, y_train, X_test, y_test = split_data(X, y)"
      ],
      "id": "4f0db2b6"
    },
    {
      "cell_type": "markdown",
      "metadata": {},
      "source": [
        "## Train and Visualize the Linear Regression Model"
      ],
      "id": "c7091606-91bd-4372-9176-be8f4943f3f3"
    },
    {
      "cell_type": "code",
      "execution_count": 5,
      "metadata": {},
      "outputs": [
        {
          "output_type": "display_data",
          "metadata": {},
          "data": {
            "image/png": "[encoded data removed]"
          }
        }
      ],
      "source": [
        "torch.manual_seed(42)\n",
        "model = LinearRegression()\n",
        "\n",
        "fn_loss = torch.nn.L1Loss()\n",
        "optimizer = torch.optim.SGD(params=model.parameters(), lr=0.01)\n",
        "\n",
        "epochs = 1000\n",
        "\n",
        "plt.scatter(X_train, y_train, color='black')\n",
        "\n",
        "for epoch in range(epochs):\n",
        "    model.train()\n",
        "    train_loss = fn_loss(model(X_train), y_train)\n",
        "    optimizer.zero_grad()\n",
        "    train_loss.backward()\n",
        "    optimizer.step()\n",
        "\n",
        "    if epoch % 10 == 0:\n",
        "        model.eval()\n",
        "        with torch.inference_mode():\n",
        "            test_pred = model(X_test)\n",
        "            plt.scatter(X_test, test_pred, color='gray')\n",
        "\n",
        "with torch.inference_mode():\n",
        "    plt.scatter(X_test, model(X_test), color='blue')"
      ],
      "id": "7cbc5626"
    }
  ],
  "nbformat": 4,
  "nbformat_minor": 5,
  "metadata": {
    "kernelspec": {
      "name": "python3",
      "display_name": "Python 3 (ipykernel)",
      "language": "python",
      "path": "/usr/share/jupyter/kernels/python3"
    },
    "language_info": {
      "name": "python",
      "codemirror_mode": {
        "name": "ipython",
        "version": "3"
      },
      "file_extension": ".py",
      "mimetype": "text/x-python",
      "nbconvert_exporter": "python",
      "pygments_lexer": "ipython3",
      "version": "3.10.16"
    }
  }
}