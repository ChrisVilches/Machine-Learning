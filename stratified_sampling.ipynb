{
 "cells": [
  {
   "cell_type": "markdown",
   "id": "254e9abb-5012-4dc3-891f-fe433a760e9c",
   "metadata": {},
   "source": [
    "# Stratified Sampling\n",
    "\n",
    "Stratified sampling is a sampling method that involves dividing a population into subgroups, or strata, based on a shared characteristic. After dividing the population, researchers randomly sample each subgroup using a probability sampling method.\n",
    "\n",
    "In a proportional stratified sample, the size of each stratum in the sample is proportionate to the size of the stratum in the population. In a disproportional stratified sample, the size of each stratum is not proportional to its size in the population."
   ]
  },
  {
   "cell_type": "code",
   "execution_count": 1,
   "id": "d3f6e9e2-bc2f-4fc0-a70c-d95d9c38e346",
   "metadata": {},
   "outputs": [],
   "source": [
    "import pandas as pd"
   ]
  },
  {
   "cell_type": "markdown",
   "id": "945f071c-ceba-4a71-916a-36558f5da78d",
   "metadata": {},
   "source": [
    "Data: 美容所一覧\n",
    "\n",
    "Source:\n",
    "https://catalog.data.metro.tokyo.lg.jp/dataset/t131032d0000000232/resource/ad9167d0-985a-4319-be3c-fbc7339636e1"
   ]
  },
  {
   "cell_type": "code",
   "execution_count": 2,
   "id": "0028bc90-fd7d-4749-88a4-fff3860f672b",
   "metadata": {},
   "outputs": [
    {
     "name": "stdout",
     "output_type": "stream",
     "text": [
      "(1596, 6)\n"
     ]
    },
    {
     "data": {
      "text/html": [
       "<div>\n",
       "<style scoped>\n",
       "    .dataframe tbody tr th:only-of-type {\n",
       "        vertical-align: middle;\n",
       "    }\n",
       "\n",
       "    .dataframe tbody tr th {\n",
       "        vertical-align: top;\n",
       "    }\n",
       "\n",
       "    .dataframe thead th {\n",
       "        text-align: right;\n",
       "    }\n",
       "</style>\n",
       "<table border=\"1\" class=\"dataframe\">\n",
       "  <thead>\n",
       "    <tr style=\"text-align: right;\">\n",
       "      <th></th>\n",
       "      <th>施設名称</th>\n",
       "      <th>施設郵便番号</th>\n",
       "      <th>施設所在地</th>\n",
       "      <th>施設方書</th>\n",
       "      <th>確認日</th>\n",
       "      <th>確認番号</th>\n",
       "    </tr>\n",
       "  </thead>\n",
       "  <tbody>\n",
       "    <tr>\n",
       "      <th>0</th>\n",
       "      <td>ＴＫビューティ　サロン</td>\n",
       "      <td>107-0052</td>\n",
       "      <td>東京都港区赤坂一丁目6番14号</td>\n",
       "      <td>赤坂協和ビル 2階</td>\n",
       "      <td>2003/8/8</td>\n",
       "      <td>15港み生環き第72号</td>\n",
       "    </tr>\n",
       "    <tr>\n",
       "      <th>1</th>\n",
       "      <td>にっぽん丸　スパ＆サロン（船舶）</td>\n",
       "      <td>107-0052</td>\n",
       "      <td>東京都港区赤坂一丁目9番13号</td>\n",
       "      <td>三会堂ビル 5階(本社所在地)</td>\n",
       "      <td>2010/3/12</td>\n",
       "      <td>21港み生環き第155号</td>\n",
       "    </tr>\n",
       "    <tr>\n",
       "      <th>2</th>\n",
       "      <td>ＡＮＡインターコンチネンタルホテル東京　ヤマノビューティウエルネスサロン</td>\n",
       "      <td>107-0052</td>\n",
       "      <td>東京都港区赤坂一丁目12番33号</td>\n",
       "      <td>東京全日空ホテル 1階</td>\n",
       "      <td>2003/9/17</td>\n",
       "      <td>15港み生環き第82号</td>\n",
       "    </tr>\n",
       "    <tr>\n",
       "      <th>3</th>\n",
       "      <td>ＡＫａＳａＫａ　ｓａｌｏｎ</td>\n",
       "      <td>107-0052</td>\n",
       "      <td>東京都港区赤坂二丁目8番13号</td>\n",
       "      <td>赤坂こうゆうビル902</td>\n",
       "      <td>2020/9/16</td>\n",
       "      <td>2港み生環き第124号</td>\n",
       "    </tr>\n",
       "    <tr>\n",
       "      <th>4</th>\n",
       "      <td>Ｅ∞Ａｉｌｅｓ</td>\n",
       "      <td>107-0052</td>\n",
       "      <td>東京都港区赤坂二丁目8番13号</td>\n",
       "      <td>赤坂こうゆうビル702</td>\n",
       "      <td>2020/10/1</td>\n",
       "      <td>2港み生環き第131号</td>\n",
       "    </tr>\n",
       "    <tr>\n",
       "      <th>5</th>\n",
       "      <td>Ｋｕｕオーガニックヘナシロダーラ</td>\n",
       "      <td>107-0052</td>\n",
       "      <td>東京都港区赤坂二丁目8番13号</td>\n",
       "      <td>赤坂こうゆうビル603</td>\n",
       "      <td>2023/2/28</td>\n",
       "      <td>4港み生環き第211号</td>\n",
       "    </tr>\n",
       "    <tr>\n",
       "      <th>6</th>\n",
       "      <td>Ｈａｉｒ　＆　Ｍａｋｅｕｐ　Ｓａｌｏｎ　Ｅ∞Ａｉｌｅｓ</td>\n",
       "      <td>107-0052</td>\n",
       "      <td>東京都港区赤坂二丁目8番13号</td>\n",
       "      <td>赤坂こうゆうビル701</td>\n",
       "      <td>2023/3/30</td>\n",
       "      <td>4港み生環き第232号</td>\n",
       "    </tr>\n",
       "    <tr>\n",
       "      <th>7</th>\n",
       "      <td>Ｌｅｐｕｓ</td>\n",
       "      <td>107-0052</td>\n",
       "      <td>東京都港区赤坂二丁目8番16号</td>\n",
       "      <td>赤坂光和ビル地下1階</td>\n",
       "      <td>2021/3/1</td>\n",
       "      <td>2港み生環き第200号</td>\n",
       "    </tr>\n",
       "    <tr>\n",
       "      <th>8</th>\n",
       "      <td>ＰＡＺＺＯ　（パッゾォ）</td>\n",
       "      <td>107-0052</td>\n",
       "      <td>東京都港区赤坂二丁目10番16号</td>\n",
       "      <td>赤坂スクアエビル2A</td>\n",
       "      <td>2023/3/3</td>\n",
       "      <td>4港み生環き第191号</td>\n",
       "    </tr>\n",
       "    <tr>\n",
       "      <th>9</th>\n",
       "      <td>美容室カイザーリン</td>\n",
       "      <td>107-0052</td>\n",
       "      <td>東京都港区赤坂二丁目12番12号</td>\n",
       "      <td>赤坂フローラビル 5階</td>\n",
       "      <td>1996/12/2</td>\n",
       "      <td>8港赤総衛環き第18号</td>\n",
       "    </tr>\n",
       "  </tbody>\n",
       "</table>\n",
       "</div>"
      ],
      "text/plain": [
       "                                   施設名称    施設郵便番号             施設所在地  \\\n",
       "0                           ＴＫビューティ　サロン  107-0052   東京都港区赤坂一丁目6番14号   \n",
       "1                      にっぽん丸　スパ＆サロン（船舶）  107-0052   東京都港区赤坂一丁目9番13号   \n",
       "2  ＡＮＡインターコンチネンタルホテル東京　ヤマノビューティウエルネスサロン  107-0052  東京都港区赤坂一丁目12番33号   \n",
       "3                         ＡＫａＳａＫａ　ｓａｌｏｎ  107-0052   東京都港区赤坂二丁目8番13号   \n",
       "4                               Ｅ∞Ａｉｌｅｓ  107-0052   東京都港区赤坂二丁目8番13号   \n",
       "5                      Ｋｕｕオーガニックヘナシロダーラ  107-0052   東京都港区赤坂二丁目8番13号   \n",
       "6           Ｈａｉｒ　＆　Ｍａｋｅｕｐ　Ｓａｌｏｎ　Ｅ∞Ａｉｌｅｓ  107-0052   東京都港区赤坂二丁目8番13号   \n",
       "7                                 Ｌｅｐｕｓ  107-0052   東京都港区赤坂二丁目8番16号   \n",
       "8                          ＰＡＺＺＯ　（パッゾォ）  107-0052  東京都港区赤坂二丁目10番16号   \n",
       "9                             美容室カイザーリン  107-0052  東京都港区赤坂二丁目12番12号   \n",
       "\n",
       "              施設方書        確認日          確認番号  \n",
       "0        赤坂協和ビル 2階   2003/8/8   15港み生環き第72号  \n",
       "1  三会堂ビル 5階(本社所在地)  2010/3/12  21港み生環き第155号  \n",
       "2      東京全日空ホテル 1階  2003/9/17   15港み生環き第82号  \n",
       "3      赤坂こうゆうビル902  2020/9/16   2港み生環き第124号  \n",
       "4      赤坂こうゆうビル702  2020/10/1   2港み生環き第131号  \n",
       "5      赤坂こうゆうビル603  2023/2/28   4港み生環き第211号  \n",
       "6      赤坂こうゆうビル701  2023/3/30   4港み生環き第232号  \n",
       "7       赤坂光和ビル地下1階   2021/3/1   2港み生環き第200号  \n",
       "8       赤坂スクアエビル2A   2023/3/3   4港み生環き第191号  \n",
       "9      赤坂フローラビル 5階  1996/12/2   8港赤総衛環き第18号  "
      ]
     },
     "execution_count": 2,
     "metadata": {},
     "output_type": "execute_result"
    }
   ],
   "source": [
    "df = pd.read_csv('./data/minato-biyou.csv')\n",
    "print(df.shape)\n",
    "df.head(10)"
   ]
  },
  {
   "cell_type": "code",
   "execution_count": 3,
   "id": "3e503525-2b82-4e65-baca-83ec1f250fe8",
   "metadata": {},
   "outputs": [
    {
     "data": {
      "text/plain": [
       "施設郵便番号\n",
       "107-0062     508\n",
       "107-0061     205\n",
       "106-0032     138\n",
       "106-0045     135\n",
       "107-0052     112\n",
       "108-0071      66\n",
       "106-0047      51\n",
       "108-0074      50\n",
       "106-0031      42\n",
       "105-0004      36\n",
       "108-0072      34\n",
       "108-0014      29\n",
       "108-0073      27\n",
       "108-0023      23\n",
       "106-0044      23\n",
       "106-0046      18\n",
       "105-0013      17\n",
       "105-0001      13\n",
       "105-0012      10\n",
       "105-0021       9\n",
       "108-0075       9\n",
       "105-0003       8\n",
       "105-0014       8\n",
       "105-0022       8\n",
       "106-0041       5\n",
       "135-0091       4\n",
       "105-0011       4\n",
       "105-0023       2\n",
       "107-0051       1\n",
       "Ver202303      1\n",
       "Name: count, dtype: int64"
      ]
     },
     "execution_count": 3,
     "metadata": {},
     "output_type": "execute_result"
    }
   ],
   "source": [
    "df['施設郵便番号'].value_counts()"
   ]
  },
  {
   "cell_type": "code",
   "execution_count": 4,
   "id": "fd05876b-656c-40cf-a995-1721ef682158",
   "metadata": {},
   "outputs": [
    {
     "data": {
      "text/plain": [
       "{'105-0001',\n",
       " '105-0003',\n",
       " '105-0011',\n",
       " '105-0012',\n",
       " '105-0014',\n",
       " '105-0021',\n",
       " '105-0022',\n",
       " '105-0023',\n",
       " '106-0041',\n",
       " '107-0051',\n",
       " '108-0075',\n",
       " '135-0091',\n",
       " 'Ver202303'}"
      ]
     },
     "execution_count": 4,
     "metadata": {},
     "output_type": "execute_result"
    }
   ],
   "source": [
    "value_counts = df['施設郵便番号'].value_counts()\n",
    "\n",
    "too_small = set()\n",
    "\n",
    "for name, count in value_counts.items():\n",
    "  if count < 15:\n",
    "    too_small.add(name)\n",
    "\n",
    "too_small"
   ]
  },
  {
   "cell_type": "code",
   "execution_count": 5,
   "id": "effa947a-070d-4bb4-8e97-bfe9fc07c6f3",
   "metadata": {},
   "outputs": [
    {
     "name": "stdout",
     "output_type": "stream",
     "text": [
      "(1596, 6)\n",
      "(1514, 6)\n"
     ]
    }
   ],
   "source": [
    "df_filtered = df[~df['施設郵便番号'].isin(too_small)]\n",
    "print(df.shape)\n",
    "print(df_filtered.shape)"
   ]
  },
  {
   "cell_type": "code",
   "execution_count": 12,
   "id": "8deb8b6d-35c9-4c21-9467-814680c6ea0f",
   "metadata": {},
   "outputs": [
    {
     "data": {
      "text/plain": [
       "施設郵便番号\n",
       "105-0004    10\n",
       "107-0061    10\n",
       "108-0073    10\n",
       "108-0072    10\n",
       "108-0071    10\n",
       "108-0023    10\n",
       "108-0014    10\n",
       "107-0062    10\n",
       "107-0052    10\n",
       "105-0013    10\n",
       "106-0047    10\n",
       "106-0046    10\n",
       "106-0045    10\n",
       "106-0044    10\n",
       "106-0032    10\n",
       "106-0031    10\n",
       "108-0074    10\n",
       "Name: count, dtype: int64"
      ]
     },
     "execution_count": 12,
     "metadata": {},
     "output_type": "execute_result"
    }
   ],
   "source": [
    "sample = df_filtered.groupby('施設郵便番号', group_keys=False).apply(lambda x: x.sample(10))\n",
    "sample['施設郵便番号'].value_counts()"
   ]
  },
  {
   "cell_type": "code",
   "execution_count": 14,
   "id": "07ec1e7b-9c09-4fac-94b7-0d0c4e5c97bd",
   "metadata": {},
   "outputs": [
    {
     "data": {
      "text/plain": [
       "施設郵便番号\n",
       "107-0062    51\n",
       "107-0061    20\n",
       "106-0032    14\n",
       "106-0045    14\n",
       "107-0052    11\n",
       "108-0071     7\n",
       "106-0047     5\n",
       "108-0074     5\n",
       "106-0031     4\n",
       "105-0004     4\n",
       "108-0014     3\n",
       "108-0072     3\n",
       "108-0073     3\n",
       "105-0013     2\n",
       "106-0046     2\n",
       "106-0044     2\n",
       "108-0023     2\n",
       "Name: count, dtype: int64"
      ]
     },
     "execution_count": 14,
     "metadata": {},
     "output_type": "execute_result"
    }
   ],
   "source": [
    "sample = df_filtered.groupby('施設郵便番号', group_keys=False).apply(lambda x: x.sample(frac=0.1))\n",
    "sample['施設郵便番号'].value_counts()"
   ]
  }
 ],
 "metadata": {
  "kernelspec": {
   "display_name": "Python 3 (ipykernel)",
   "language": "python",
   "name": "python3"
  },
  "language_info": {
   "codemirror_mode": {
    "name": "ipython",
    "version": 3
   },
   "file_extension": ".py",
   "mimetype": "text/x-python",
   "name": "python",
   "nbconvert_exporter": "python",
   "pygments_lexer": "ipython3",
   "version": "3.10.12"
  }
 },
 "nbformat": 4,
 "nbformat_minor": 5
}
