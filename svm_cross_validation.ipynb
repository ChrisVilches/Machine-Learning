{
 "cells": [
  {
   "cell_type": "markdown",
   "id": "9362c1d2-9e49-416c-bddd-0f13b9354afb",
   "metadata": {},
   "source": [
    "# Support Vector Machine (Using Cross Validation)"
   ]
  },
  {
   "cell_type": "code",
   "execution_count": 1,
   "id": "044d765d-090c-47b6-a29a-66486d15fe71",
   "metadata": {},
   "outputs": [],
   "source": [
    "import pandas as pd\n",
    "from sklearn.svm import SVC\n",
    "from sklearn.model_selection import cross_val_score\n",
    "import sys\n",
    "sys.path.append(\"./util/gen_data\")\n",
    "from util.gen_data import gen_people_default"
   ]
  },
  {
   "cell_type": "code",
   "execution_count": 2,
   "id": "5a23e4d9-f18b-4be3-87d4-e0accad9251e",
   "metadata": {},
   "outputs": [],
   "source": [
    "data = gen_people_default(5_000, female_label=1, male_label=2)\n",
    "\n",
    "X = data[['height', 'weight']]\n",
    "y = data[['gender']]"
   ]
  },
  {
   "cell_type": "code",
   "execution_count": 3,
   "id": "8b4916b9-4655-4df8-9b3a-264340c3a5a0",
   "metadata": {},
   "outputs": [
    {
     "data": {
      "text/html": [
       "<div>\n",
       "<style scoped>\n",
       "    .dataframe tbody tr th:only-of-type {\n",
       "        vertical-align: middle;\n",
       "    }\n",
       "\n",
       "    .dataframe tbody tr th {\n",
       "        vertical-align: top;\n",
       "    }\n",
       "\n",
       "    .dataframe thead th {\n",
       "        text-align: right;\n",
       "    }\n",
       "</style>\n",
       "<table border=\"1\" class=\"dataframe\">\n",
       "  <thead>\n",
       "    <tr style=\"text-align: right;\">\n",
       "      <th></th>\n",
       "      <th>height</th>\n",
       "      <th>weight</th>\n",
       "    </tr>\n",
       "  </thead>\n",
       "  <tbody>\n",
       "    <tr>\n",
       "      <th>0</th>\n",
       "      <td>181.010197</td>\n",
       "      <td>53.176698</td>\n",
       "    </tr>\n",
       "    <tr>\n",
       "      <th>1</th>\n",
       "      <td>170.971541</td>\n",
       "      <td>78.225531</td>\n",
       "    </tr>\n",
       "    <tr>\n",
       "      <th>2</th>\n",
       "      <td>176.566897</td>\n",
       "      <td>83.278772</td>\n",
       "    </tr>\n",
       "    <tr>\n",
       "      <th>3</th>\n",
       "      <td>170.050927</td>\n",
       "      <td>83.612492</td>\n",
       "    </tr>\n",
       "    <tr>\n",
       "      <th>4</th>\n",
       "      <td>155.782877</td>\n",
       "      <td>56.338460</td>\n",
       "    </tr>\n",
       "  </tbody>\n",
       "</table>\n",
       "</div>"
      ],
      "text/plain": [
       "       height     weight\n",
       "0  181.010197  53.176698\n",
       "1  170.971541  78.225531\n",
       "2  176.566897  83.278772\n",
       "3  170.050927  83.612492\n",
       "4  155.782877  56.338460"
      ]
     },
     "execution_count": 3,
     "metadata": {},
     "output_type": "execute_result"
    }
   ],
   "source": [
    "X.head()"
   ]
  },
  {
   "cell_type": "code",
   "execution_count": 4,
   "id": "cf80b725-4dc3-416f-9e41-25ceaeb28c52",
   "metadata": {},
   "outputs": [
    {
     "data": {
      "text/html": [
       "<div>\n",
       "<style scoped>\n",
       "    .dataframe tbody tr th:only-of-type {\n",
       "        vertical-align: middle;\n",
       "    }\n",
       "\n",
       "    .dataframe tbody tr th {\n",
       "        vertical-align: top;\n",
       "    }\n",
       "\n",
       "    .dataframe thead th {\n",
       "        text-align: right;\n",
       "    }\n",
       "</style>\n",
       "<table border=\"1\" class=\"dataframe\">\n",
       "  <thead>\n",
       "    <tr style=\"text-align: right;\">\n",
       "      <th></th>\n",
       "      <th>gender</th>\n",
       "    </tr>\n",
       "  </thead>\n",
       "  <tbody>\n",
       "    <tr>\n",
       "      <th>0</th>\n",
       "      <td>1</td>\n",
       "    </tr>\n",
       "    <tr>\n",
       "      <th>1</th>\n",
       "      <td>2</td>\n",
       "    </tr>\n",
       "    <tr>\n",
       "      <th>2</th>\n",
       "      <td>2</td>\n",
       "    </tr>\n",
       "    <tr>\n",
       "      <th>3</th>\n",
       "      <td>2</td>\n",
       "    </tr>\n",
       "    <tr>\n",
       "      <th>4</th>\n",
       "      <td>1</td>\n",
       "    </tr>\n",
       "  </tbody>\n",
       "</table>\n",
       "</div>"
      ],
      "text/plain": [
       "   gender\n",
       "0       1\n",
       "1       2\n",
       "2       2\n",
       "3       2\n",
       "4       1"
      ]
     },
     "execution_count": 4,
     "metadata": {},
     "output_type": "execute_result"
    }
   ],
   "source": [
    "y.head()"
   ]
  },
  {
   "cell_type": "code",
   "execution_count": 5,
   "id": "e1209731-2786-417b-9f2d-68beb5e89ad5",
   "metadata": {},
   "outputs": [],
   "source": [
    "svc = SVC()"
   ]
  },
  {
   "cell_type": "code",
   "execution_count": 6,
   "id": "25c2a46d-8d48-4a93-bec8-5f1af4792b11",
   "metadata": {},
   "outputs": [
    {
     "data": {
      "text/plain": [
       "array([0.924, 0.91 , 0.926, 0.916, 0.933, 0.907, 0.93 , 0.915, 0.932,\n",
       "       0.91 ])"
      ]
     },
     "execution_count": 6,
     "metadata": {},
     "output_type": "execute_result"
    }
   ],
   "source": [
    "scores = cross_val_score(svc, X, y.values.ravel(), cv=10)\n",
    "scores"
   ]
  },
  {
   "cell_type": "code",
   "execution_count": 7,
   "id": "c5fad8d0-13a7-4e85-881e-71bab3266e70",
   "metadata": {},
   "outputs": [
    {
     "data": {
      "text/plain": [
       "0.9203000000000001"
      ]
     },
     "execution_count": 7,
     "metadata": {},
     "output_type": "execute_result"
    }
   ],
   "source": [
    "scores.mean()"
   ]
  },
  {
   "cell_type": "code",
   "execution_count": 8,
   "id": "c24d9a20-b8b5-4972-93c2-e08ed41dac09",
   "metadata": {},
   "outputs": [
    {
     "data": {
      "text/plain": [
       "0.009349331526906089"
      ]
     },
     "execution_count": 8,
     "metadata": {},
     "output_type": "execute_result"
    }
   ],
   "source": [
    "scores.std()"
   ]
  }
 ],
 "metadata": {
  "kernelspec": {
   "display_name": "Python 3 (ipykernel)",
   "language": "python",
   "name": "python3"
  },
  "language_info": {
   "codemirror_mode": {
    "name": "ipython",
    "version": 3
   },
   "file_extension": ".py",
   "mimetype": "text/x-python",
   "name": "python",
   "nbconvert_exporter": "python",
   "pygments_lexer": "ipython3",
   "version": "3.10.12"
  }
 },
 "nbformat": 4,
 "nbformat_minor": 5
}
