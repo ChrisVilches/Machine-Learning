{
 "cells": [
  {
   "cell_type": "markdown",
   "id": "2d195041-6768-4a60-8b48-61218479e9e1",
   "metadata": {},
   "source": [
    "# Hypothesis Testing: Matched or Paired Samples T-Test\n",
    "\n",
    "https://www.youtube.com/watch?v=JiQR0lHLe74"
   ]
  },
  {
   "cell_type": "code",
   "execution_count": 1,
   "id": "58df9e8f-ff3b-422c-b2e8-a290c9c3f8d1",
   "metadata": {},
   "outputs": [],
   "source": [
    "import numpy as np\n",
    "from scipy.stats import t\n",
    "from matplotlib import pyplot"
   ]
  },
  {
   "cell_type": "code",
   "execution_count": 2,
   "id": "ceac25f1-67f3-4ed2-a6f9-dee763dc4f54",
   "metadata": {},
   "outputs": [],
   "source": [
    "data1 = np.array([185, 192, 206, 177, 225, 168, 256, 239, 199, 218])\n",
    "data2 = np.array([169, 187, 193, 176, 194, 171, 228, 217, 204, 195])\n",
    "n = len(data1)"
   ]
  },
  {
   "cell_type": "code",
   "execution_count": 3,
   "id": "87431a56-242f-4c32-a1a2-9910b87b59cf",
   "metadata": {},
   "outputs": [],
   "source": [
    "alpha = 0.05"
   ]
  },
  {
   "cell_type": "markdown",
   "id": "e0e11154-8903-4031-8554-892cbb287ad9",
   "metadata": {},
   "source": [
    "$H_0: \\mu_d \\ge 0$\n",
    "\n",
    "$H_a: \\mu_d \\lt 0$"
   ]
  },
  {
   "cell_type": "code",
   "execution_count": 4,
   "id": "6c380bbc-a81b-48b1-926a-ab241191050c",
   "metadata": {},
   "outputs": [
    {
     "name": "stdout",
     "output_type": "stream",
     "text": [
      "[-16  -5 -13  -1 -31   3 -28 -22   5 -23] -13.1\n"
     ]
    }
   ],
   "source": [
    "diff = data2 - data1\n",
    "\n",
    "sample_diff_mean = np.sum(diff) / len(data1)\n",
    "\n",
    "print(diff, sample_diff_mean)"
   ]
  },
  {
   "cell_type": "code",
   "execution_count": 5,
   "id": "e1fee0b7-0943-4956-9e92-9093b3272675",
   "metadata": {},
   "outputs": [
    {
     "data": {
      "text/plain": [
       "13.02518927139086"
      ]
     },
     "execution_count": 5,
     "metadata": {},
     "output_type": "execute_result"
    }
   ],
   "source": [
    "denom = len(data1) - 1\n",
    "\n",
    "std = np.sqrt(np.sum(np.square(diff - sample_diff_mean)) / denom)\n",
    "\n",
    "std"
   ]
  },
  {
   "cell_type": "code",
   "execution_count": 6,
   "id": "c318e146-e6a8-4714-9367-4e9e9d968a85",
   "metadata": {},
   "outputs": [],
   "source": [
    "degrees_freedom = n - 1"
   ]
  },
  {
   "cell_type": "code",
   "execution_count": 7,
   "id": "da314a79-befb-4df9-873d-8c8a55138777",
   "metadata": {},
   "outputs": [
    {
     "data": {
      "text/plain": [
       "-1.8331129326536337"
      ]
     },
     "execution_count": 7,
     "metadata": {},
     "output_type": "execute_result"
    }
   ],
   "source": [
    "critical_t_value = t.ppf(alpha, degrees_freedom)\n",
    "critical_t_value"
   ]
  },
  {
   "cell_type": "code",
   "execution_count": 8,
   "id": "1b0ad2dc-fe16-4b07-84b6-7980fdd72315",
   "metadata": {},
   "outputs": [
    {
     "data": {
      "text/plain": [
       "-3.180440336417639"
      ]
     },
     "execution_count": 8,
     "metadata": {},
     "output_type": "execute_result"
    }
   ],
   "source": [
    "population_mean_diff = 0\n",
    "\n",
    "t_value = (sample_diff_mean - population_mean_diff) / (std / np.sqrt(n))\n",
    "t_value"
   ]
  },
  {
   "cell_type": "code",
   "execution_count": 9,
   "id": "870f1893-a308-431c-bed5-3b62b8ad3ac0",
   "metadata": {},
   "outputs": [
    {
     "data": {
      "text/plain": [
       "[<matplotlib.lines.Line2D at 0x7f6197fd16f0>]"
      ]
     },
     "execution_count": 9,
     "metadata": {},
     "output_type": "execute_result"
    },
    {
     "data": {
      "image/png": "[encoded data removed]",
      "text/plain": [
       "<Figure size 640x480 with 1 Axes>"
      ]
     },
     "metadata": {},
     "output_type": "display_data"
    }
   ],
   "source": [
    "x = np.linspace(t.ppf(0.001, degrees_freedom), t.ppf(0.999, degrees_freedom), 100)\n",
    "pyplot.plot(x, t.pdf(x, degrees_freedom))\n",
    "pyplot.fill_betweenx([0, 0.5], -5, critical_t_value, facecolor='red', alpha=0.5)\n",
    "\n",
    "pyplot.plot([t_value], [0], marker='o', color='black')"
   ]
  },
  {
   "cell_type": "markdown",
   "id": "f8280ef8-4b8d-4aaf-92b1-b31c941701a5",
   "metadata": {},
   "source": [
    "Reject $H_0$"
   ]
  },
  {
   "cell_type": "markdown",
   "id": "76f9fe8f-6ead-4482-8d42-829d9125cfc0",
   "metadata": {},
   "source": [
    "## Confidence Interval"
   ]
  },
  {
   "cell_type": "code",
   "execution_count": 10,
   "id": "d334f6c2-58e5-4d86-8eed-a9cf61be6e6a",
   "metadata": {},
   "outputs": [
    {
     "data": {
      "text/plain": [
       "(-20.650457445402374, -5.5495425545976245)"
      ]
     },
     "execution_count": 10,
     "metadata": {},
     "output_type": "execute_result"
    }
   ],
   "source": [
    "lo = sample_diff_mean - np.abs(critical_t_value * std / np.sqrt(n))\n",
    "hi = sample_diff_mean + np.abs(critical_t_value * std / np.sqrt(n))\n",
    "\n",
    "assert(lo < hi)\n",
    "(lo, hi)"
   ]
  },
  {
   "cell_type": "markdown",
   "id": "2a47333a-23bf-436f-8d6b-51c0a1603e4f",
   "metadata": {},
   "source": [
    "We are 95% confident that the mean difference ($\\mu_d$) is somewhere in that range. This gives us further reason to reject $H_0$, which claims $\\mu_d \\ge 0$."
   ]
  }
 ],
 "metadata": {
  "kernelspec": {
   "display_name": "Python 3 (ipykernel)",
   "language": "python",
   "name": "python3"
  },
  "language_info": {
   "codemirror_mode": {
    "name": "ipython",
    "version": 3
   },
   "file_extension": ".py",
   "mimetype": "text/x-python",
   "name": "python",
   "nbconvert_exporter": "python",
   "pygments_lexer": "ipython3",
   "version": "3.10.12"
  }
 },
 "nbformat": 4,
 "nbformat_minor": 5
}
